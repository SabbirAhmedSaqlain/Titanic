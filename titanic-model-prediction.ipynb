{
 "cells": [
  {
   "cell_type": "code",
   "execution_count": 1,
   "id": "aee59761",
   "metadata": {
    "_cell_guid": "b1076dfc-b9ad-4769-8c92-a6c4dae69d19",
    "_uuid": "8f2839f25d086af736a60e9eeb907d3b93b6e0e5",
    "execution": {
     "iopub.execute_input": "2021-09-27T14:01:12.191364Z",
     "iopub.status.busy": "2021-09-27T14:01:12.190273Z",
     "iopub.status.idle": "2021-09-27T14:01:12.201744Z",
     "shell.execute_reply": "2021-09-27T14:01:12.202591Z",
     "shell.execute_reply.started": "2021-09-27T13:58:03.533828Z"
    },
    "papermill": {
     "duration": 0.060892,
     "end_time": "2021-09-27T14:01:12.203082",
     "exception": false,
     "start_time": "2021-09-27T14:01:12.142190",
     "status": "completed"
    },
    "tags": []
   },
   "outputs": [
    {
     "name": "stdout",
     "output_type": "stream",
     "text": [
      "/kaggle/input/titanic/train.csv\n",
      "/kaggle/input/titanic/test.csv\n",
      "/kaggle/input/titanic/gender_submission.csv\n"
     ]
    }
   ],
   "source": [
    "import os\n",
    "for dirname, _, filenames in os.walk('/kaggle/input'):\n",
    "    for filename in filenames:\n",
    "        print(os.path.join(dirname, filename))\n",
    "\n",
    "# You can write up to 20GB to the current directory (/kaggle/working/) that gets preserved as output when you create a version using \"Save & Run All\" \n",
    "# You can also write temporary files to /kaggle/temp/, but they won't be saved outside of the current session"
   ]
  },
  {
   "cell_type": "markdown",
   "id": "3a3c2df7",
   "metadata": {
    "papermill": {
     "duration": 0.039876,
     "end_time": "2021-09-27T14:01:12.284634",
     "exception": false,
     "start_time": "2021-09-27T14:01:12.244758",
     "status": "completed"
    },
    "tags": []
   },
   "source": [
    "# Data Preprocessing"
   ]
  },
  {
   "cell_type": "markdown",
   "id": "1d7ad636",
   "metadata": {
    "papermill": {
     "duration": 0.039474,
     "end_time": "2021-09-27T14:01:12.365263",
     "exception": false,
     "start_time": "2021-09-27T14:01:12.325789",
     "status": "completed"
    },
    "tags": []
   },
   "source": [
    "## Importing Library"
   ]
  },
  {
   "cell_type": "code",
   "execution_count": 2,
   "id": "73cb8b1d",
   "metadata": {
    "execution": {
     "iopub.execute_input": "2021-09-27T14:01:12.447557Z",
     "iopub.status.busy": "2021-09-27T14:01:12.446966Z",
     "iopub.status.idle": "2021-09-27T14:01:13.870746Z",
     "shell.execute_reply": "2021-09-27T14:01:13.871255Z",
     "shell.execute_reply.started": "2021-09-27T13:58:03.546403Z"
    },
    "papermill": {
     "duration": 1.466311,
     "end_time": "2021-09-27T14:01:13.871429",
     "exception": false,
     "start_time": "2021-09-27T14:01:12.405118",
     "status": "completed"
    },
    "tags": []
   },
   "outputs": [],
   "source": [
    "import numpy as np # linear algebra\n",
    "import pandas as pd # data processing, CSV file I/O (e.g. pd.read_csv)\n",
    "import seaborn as sns\n",
    "import matplotlib.pyplot as plt\n",
    "from sklearn.metrics import confusion_matrix, accuracy_score\n",
    "from sklearn.linear_model import LogisticRegression\n",
    "\n",
    "from sklearn.compose import ColumnTransformer\n",
    "from sklearn.preprocessing import OneHotEncoder\n",
    "from sklearn.neighbors import KNeighborsClassifier\n",
    "from sklearn.svm import SVC\n",
    "from sklearn.tree import DecisionTreeClassifier\n",
    "from sklearn.ensemble import RandomForestClassifier\n",
    "from xgboost import XGBClassifier\n",
    "%matplotlib inline"
   ]
  },
  {
   "cell_type": "markdown",
   "id": "3f98f3cb",
   "metadata": {
    "papermill": {
     "duration": 0.03947,
     "end_time": "2021-09-27T14:01:13.950574",
     "exception": false,
     "start_time": "2021-09-27T14:01:13.911104",
     "status": "completed"
    },
    "tags": []
   },
   "source": [
    "## Importing the dataset"
   ]
  },
  {
   "cell_type": "code",
   "execution_count": 3,
   "id": "e8198833",
   "metadata": {
    "execution": {
     "iopub.execute_input": "2021-09-27T14:01:14.036425Z",
     "iopub.status.busy": "2021-09-27T14:01:14.035690Z",
     "iopub.status.idle": "2021-09-27T14:01:14.070533Z",
     "shell.execute_reply": "2021-09-27T14:01:14.070009Z",
     "shell.execute_reply.started": "2021-09-27T13:58:03.556567Z"
    },
    "papermill": {
     "duration": 0.079771,
     "end_time": "2021-09-27T14:01:14.070680",
     "exception": false,
     "start_time": "2021-09-27T14:01:13.990909",
     "status": "completed"
    },
    "tags": []
   },
   "outputs": [],
   "source": [
    "train_df = pd.read_csv(\"/kaggle/input/titanic/train.csv\") # train dataset\n",
    "test_df = pd.read_csv(\"/kaggle/input/titanic/test.csv\") # test dataset\n",
    "submit = pd.read_csv(\"/kaggle/input/titanic/gender_submission.csv\") # submit dataset"
   ]
  },
  {
   "cell_type": "markdown",
   "id": "bc7a0f23",
   "metadata": {
    "papermill": {
     "duration": 0.039926,
     "end_time": "2021-09-27T14:01:14.152219",
     "exception": false,
     "start_time": "2021-09-27T14:01:14.112293",
     "status": "completed"
    },
    "tags": []
   },
   "source": [
    "## Exploratory Data Analysis"
   ]
  },
  {
   "cell_type": "code",
   "execution_count": 4,
   "id": "ab0379e3",
   "metadata": {
    "execution": {
     "iopub.execute_input": "2021-09-27T14:01:14.256626Z",
     "iopub.status.busy": "2021-09-27T14:01:14.241028Z",
     "iopub.status.idle": "2021-09-27T14:01:14.260288Z",
     "shell.execute_reply": "2021-09-27T14:01:14.259830Z",
     "shell.execute_reply.started": "2021-09-27T13:58:03.583634Z"
    },
    "papermill": {
     "duration": 0.068466,
     "end_time": "2021-09-27T14:01:14.260419",
     "exception": false,
     "start_time": "2021-09-27T14:01:14.191953",
     "status": "completed"
    },
    "tags": []
   },
   "outputs": [
    {
     "name": "stdout",
     "output_type": "stream",
     "text": [
      "<class 'pandas.core.frame.DataFrame'>\n",
      "RangeIndex: 891 entries, 0 to 890\n",
      "Data columns (total 12 columns):\n",
      " #   Column       Non-Null Count  Dtype  \n",
      "---  ------       --------------  -----  \n",
      " 0   PassengerId  891 non-null    int64  \n",
      " 1   Survived     891 non-null    int64  \n",
      " 2   Pclass       891 non-null    int64  \n",
      " 3   Name         891 non-null    object \n",
      " 4   Sex          891 non-null    object \n",
      " 5   Age          714 non-null    float64\n",
      " 6   SibSp        891 non-null    int64  \n",
      " 7   Parch        891 non-null    int64  \n",
      " 8   Ticket       891 non-null    object \n",
      " 9   Fare         891 non-null    float64\n",
      " 10  Cabin        204 non-null    object \n",
      " 11  Embarked     889 non-null    object \n",
      "dtypes: float64(2), int64(5), object(5)\n",
      "memory usage: 83.7+ KB\n"
     ]
    }
   ],
   "source": [
    "train_df.info()"
   ]
  },
  {
   "cell_type": "code",
   "execution_count": 5,
   "id": "514e9e25",
   "metadata": {
    "execution": {
     "iopub.execute_input": "2021-09-27T14:01:14.352372Z",
     "iopub.status.busy": "2021-09-27T14:01:14.351754Z",
     "iopub.status.idle": "2021-09-27T14:01:14.354556Z",
     "shell.execute_reply": "2021-09-27T14:01:14.355097Z",
     "shell.execute_reply.started": "2021-09-27T13:58:03.597861Z"
    },
    "papermill": {
     "duration": 0.055011,
     "end_time": "2021-09-27T14:01:14.355287",
     "exception": false,
     "start_time": "2021-09-27T14:01:14.300276",
     "status": "completed"
    },
    "tags": []
   },
   "outputs": [
    {
     "name": "stdout",
     "output_type": "stream",
     "text": [
      "<class 'pandas.core.frame.DataFrame'>\n",
      "RangeIndex: 418 entries, 0 to 417\n",
      "Data columns (total 11 columns):\n",
      " #   Column       Non-Null Count  Dtype  \n",
      "---  ------       --------------  -----  \n",
      " 0   PassengerId  418 non-null    int64  \n",
      " 1   Pclass       418 non-null    int64  \n",
      " 2   Name         418 non-null    object \n",
      " 3   Sex          418 non-null    object \n",
      " 4   Age          332 non-null    float64\n",
      " 5   SibSp        418 non-null    int64  \n",
      " 6   Parch        418 non-null    int64  \n",
      " 7   Ticket       418 non-null    object \n",
      " 8   Fare         417 non-null    float64\n",
      " 9   Cabin        91 non-null     object \n",
      " 10  Embarked     418 non-null    object \n",
      "dtypes: float64(2), int64(4), object(5)\n",
      "memory usage: 36.0+ KB\n"
     ]
    }
   ],
   "source": [
    "test_df.info()"
   ]
  },
  {
   "cell_type": "code",
   "execution_count": 6,
   "id": "ca214ac3",
   "metadata": {
    "execution": {
     "iopub.execute_input": "2021-09-27T14:01:14.439436Z",
     "iopub.status.busy": "2021-09-27T14:01:14.438879Z",
     "iopub.status.idle": "2021-09-27T14:01:14.458256Z",
     "shell.execute_reply": "2021-09-27T14:01:14.458729Z",
     "shell.execute_reply.started": "2021-09-27T13:58:03.635017Z"
    },
    "papermill": {
     "duration": 0.062522,
     "end_time": "2021-09-27T14:01:14.458890",
     "exception": false,
     "start_time": "2021-09-27T14:01:14.396368",
     "status": "completed"
    },
    "tags": []
   },
   "outputs": [
    {
     "data": {
      "text/html": [
       "<div>\n",
       "<style scoped>\n",
       "    .dataframe tbody tr th:only-of-type {\n",
       "        vertical-align: middle;\n",
       "    }\n",
       "\n",
       "    .dataframe tbody tr th {\n",
       "        vertical-align: top;\n",
       "    }\n",
       "\n",
       "    .dataframe thead th {\n",
       "        text-align: right;\n",
       "    }\n",
       "</style>\n",
       "<table border=\"1\" class=\"dataframe\">\n",
       "  <thead>\n",
       "    <tr style=\"text-align: right;\">\n",
       "      <th></th>\n",
       "      <th>PassengerId</th>\n",
       "      <th>Pclass</th>\n",
       "      <th>Name</th>\n",
       "      <th>Sex</th>\n",
       "      <th>Age</th>\n",
       "      <th>SibSp</th>\n",
       "      <th>Parch</th>\n",
       "      <th>Ticket</th>\n",
       "      <th>Fare</th>\n",
       "      <th>Cabin</th>\n",
       "      <th>Embarked</th>\n",
       "    </tr>\n",
       "  </thead>\n",
       "  <tbody>\n",
       "    <tr>\n",
       "      <th>0</th>\n",
       "      <td>892</td>\n",
       "      <td>3</td>\n",
       "      <td>Kelly, Mr. James</td>\n",
       "      <td>male</td>\n",
       "      <td>34.5</td>\n",
       "      <td>0</td>\n",
       "      <td>0</td>\n",
       "      <td>330911</td>\n",
       "      <td>7.8292</td>\n",
       "      <td>NaN</td>\n",
       "      <td>Q</td>\n",
       "    </tr>\n",
       "    <tr>\n",
       "      <th>1</th>\n",
       "      <td>893</td>\n",
       "      <td>3</td>\n",
       "      <td>Wilkes, Mrs. James (Ellen Needs)</td>\n",
       "      <td>female</td>\n",
       "      <td>47.0</td>\n",
       "      <td>1</td>\n",
       "      <td>0</td>\n",
       "      <td>363272</td>\n",
       "      <td>7.0000</td>\n",
       "      <td>NaN</td>\n",
       "      <td>S</td>\n",
       "    </tr>\n",
       "    <tr>\n",
       "      <th>2</th>\n",
       "      <td>894</td>\n",
       "      <td>2</td>\n",
       "      <td>Myles, Mr. Thomas Francis</td>\n",
       "      <td>male</td>\n",
       "      <td>62.0</td>\n",
       "      <td>0</td>\n",
       "      <td>0</td>\n",
       "      <td>240276</td>\n",
       "      <td>9.6875</td>\n",
       "      <td>NaN</td>\n",
       "      <td>Q</td>\n",
       "    </tr>\n",
       "    <tr>\n",
       "      <th>3</th>\n",
       "      <td>895</td>\n",
       "      <td>3</td>\n",
       "      <td>Wirz, Mr. Albert</td>\n",
       "      <td>male</td>\n",
       "      <td>27.0</td>\n",
       "      <td>0</td>\n",
       "      <td>0</td>\n",
       "      <td>315154</td>\n",
       "      <td>8.6625</td>\n",
       "      <td>NaN</td>\n",
       "      <td>S</td>\n",
       "    </tr>\n",
       "    <tr>\n",
       "      <th>4</th>\n",
       "      <td>896</td>\n",
       "      <td>3</td>\n",
       "      <td>Hirvonen, Mrs. Alexander (Helga E Lindqvist)</td>\n",
       "      <td>female</td>\n",
       "      <td>22.0</td>\n",
       "      <td>1</td>\n",
       "      <td>1</td>\n",
       "      <td>3101298</td>\n",
       "      <td>12.2875</td>\n",
       "      <td>NaN</td>\n",
       "      <td>S</td>\n",
       "    </tr>\n",
       "  </tbody>\n",
       "</table>\n",
       "</div>"
      ],
      "text/plain": [
       "   PassengerId  Pclass                                          Name     Sex  \\\n",
       "0          892       3                              Kelly, Mr. James    male   \n",
       "1          893       3              Wilkes, Mrs. James (Ellen Needs)  female   \n",
       "2          894       2                     Myles, Mr. Thomas Francis    male   \n",
       "3          895       3                              Wirz, Mr. Albert    male   \n",
       "4          896       3  Hirvonen, Mrs. Alexander (Helga E Lindqvist)  female   \n",
       "\n",
       "    Age  SibSp  Parch   Ticket     Fare Cabin Embarked  \n",
       "0  34.5      0      0   330911   7.8292   NaN        Q  \n",
       "1  47.0      1      0   363272   7.0000   NaN        S  \n",
       "2  62.0      0      0   240276   9.6875   NaN        Q  \n",
       "3  27.0      0      0   315154   8.6625   NaN        S  \n",
       "4  22.0      1      1  3101298  12.2875   NaN        S  "
      ]
     },
     "execution_count": 6,
     "metadata": {},
     "output_type": "execute_result"
    }
   ],
   "source": [
    "test_df.head()"
   ]
  },
  {
   "cell_type": "code",
   "execution_count": 7,
   "id": "512f0c26",
   "metadata": {
    "execution": {
     "iopub.execute_input": "2021-09-27T14:01:14.544085Z",
     "iopub.status.busy": "2021-09-27T14:01:14.543470Z",
     "iopub.status.idle": "2021-09-27T14:01:14.553042Z",
     "shell.execute_reply": "2021-09-27T14:01:14.552467Z",
     "shell.execute_reply.started": "2021-09-27T13:58:03.651700Z"
    },
    "papermill": {
     "duration": 0.053654,
     "end_time": "2021-09-27T14:01:14.553178",
     "exception": false,
     "start_time": "2021-09-27T14:01:14.499524",
     "status": "completed"
    },
    "tags": []
   },
   "outputs": [],
   "source": [
    "all_df = pd.concat([train_df,test_df], axis = 0)\n",
    "all_df.set_index('PassengerId',inplace = True)"
   ]
  },
  {
   "cell_type": "code",
   "execution_count": 8,
   "id": "e180b922",
   "metadata": {
    "execution": {
     "iopub.execute_input": "2021-09-27T14:01:14.669361Z",
     "iopub.status.busy": "2021-09-27T14:01:14.668700Z",
     "iopub.status.idle": "2021-09-27T14:01:14.683213Z",
     "shell.execute_reply": "2021-09-27T14:01:14.683943Z",
     "shell.execute_reply.started": "2021-09-27T13:58:03.667548Z"
    },
    "papermill": {
     "duration": 0.07968,
     "end_time": "2021-09-27T14:01:14.684199",
     "exception": false,
     "start_time": "2021-09-27T14:01:14.604519",
     "status": "completed"
    },
    "tags": []
   },
   "outputs": [
    {
     "data": {
      "text/html": [
       "<div>\n",
       "<style scoped>\n",
       "    .dataframe tbody tr th:only-of-type {\n",
       "        vertical-align: middle;\n",
       "    }\n",
       "\n",
       "    .dataframe tbody tr th {\n",
       "        vertical-align: top;\n",
       "    }\n",
       "\n",
       "    .dataframe thead th {\n",
       "        text-align: right;\n",
       "    }\n",
       "</style>\n",
       "<table border=\"1\" class=\"dataframe\">\n",
       "  <thead>\n",
       "    <tr style=\"text-align: right;\">\n",
       "      <th></th>\n",
       "      <th>Survived</th>\n",
       "      <th>Pclass</th>\n",
       "      <th>Name</th>\n",
       "      <th>Sex</th>\n",
       "      <th>Age</th>\n",
       "      <th>SibSp</th>\n",
       "      <th>Parch</th>\n",
       "      <th>Ticket</th>\n",
       "      <th>Fare</th>\n",
       "      <th>Cabin</th>\n",
       "      <th>Embarked</th>\n",
       "    </tr>\n",
       "    <tr>\n",
       "      <th>PassengerId</th>\n",
       "      <th></th>\n",
       "      <th></th>\n",
       "      <th></th>\n",
       "      <th></th>\n",
       "      <th></th>\n",
       "      <th></th>\n",
       "      <th></th>\n",
       "      <th></th>\n",
       "      <th></th>\n",
       "      <th></th>\n",
       "      <th></th>\n",
       "    </tr>\n",
       "  </thead>\n",
       "  <tbody>\n",
       "    <tr>\n",
       "      <th>1</th>\n",
       "      <td>0.0</td>\n",
       "      <td>3</td>\n",
       "      <td>Braund, Mr. Owen Harris</td>\n",
       "      <td>male</td>\n",
       "      <td>22.0</td>\n",
       "      <td>1</td>\n",
       "      <td>0</td>\n",
       "      <td>A/5 21171</td>\n",
       "      <td>7.2500</td>\n",
       "      <td>NaN</td>\n",
       "      <td>S</td>\n",
       "    </tr>\n",
       "    <tr>\n",
       "      <th>2</th>\n",
       "      <td>1.0</td>\n",
       "      <td>1</td>\n",
       "      <td>Cumings, Mrs. John Bradley (Florence Briggs Th...</td>\n",
       "      <td>female</td>\n",
       "      <td>38.0</td>\n",
       "      <td>1</td>\n",
       "      <td>0</td>\n",
       "      <td>PC 17599</td>\n",
       "      <td>71.2833</td>\n",
       "      <td>C85</td>\n",
       "      <td>C</td>\n",
       "    </tr>\n",
       "    <tr>\n",
       "      <th>3</th>\n",
       "      <td>1.0</td>\n",
       "      <td>3</td>\n",
       "      <td>Heikkinen, Miss. Laina</td>\n",
       "      <td>female</td>\n",
       "      <td>26.0</td>\n",
       "      <td>0</td>\n",
       "      <td>0</td>\n",
       "      <td>STON/O2. 3101282</td>\n",
       "      <td>7.9250</td>\n",
       "      <td>NaN</td>\n",
       "      <td>S</td>\n",
       "    </tr>\n",
       "    <tr>\n",
       "      <th>4</th>\n",
       "      <td>1.0</td>\n",
       "      <td>1</td>\n",
       "      <td>Futrelle, Mrs. Jacques Heath (Lily May Peel)</td>\n",
       "      <td>female</td>\n",
       "      <td>35.0</td>\n",
       "      <td>1</td>\n",
       "      <td>0</td>\n",
       "      <td>113803</td>\n",
       "      <td>53.1000</td>\n",
       "      <td>C123</td>\n",
       "      <td>S</td>\n",
       "    </tr>\n",
       "    <tr>\n",
       "      <th>5</th>\n",
       "      <td>0.0</td>\n",
       "      <td>3</td>\n",
       "      <td>Allen, Mr. William Henry</td>\n",
       "      <td>male</td>\n",
       "      <td>35.0</td>\n",
       "      <td>0</td>\n",
       "      <td>0</td>\n",
       "      <td>373450</td>\n",
       "      <td>8.0500</td>\n",
       "      <td>NaN</td>\n",
       "      <td>S</td>\n",
       "    </tr>\n",
       "  </tbody>\n",
       "</table>\n",
       "</div>"
      ],
      "text/plain": [
       "             Survived  Pclass  \\\n",
       "PassengerId                     \n",
       "1                 0.0       3   \n",
       "2                 1.0       1   \n",
       "3                 1.0       3   \n",
       "4                 1.0       1   \n",
       "5                 0.0       3   \n",
       "\n",
       "                                                          Name     Sex   Age  \\\n",
       "PassengerId                                                                    \n",
       "1                                      Braund, Mr. Owen Harris    male  22.0   \n",
       "2            Cumings, Mrs. John Bradley (Florence Briggs Th...  female  38.0   \n",
       "3                                       Heikkinen, Miss. Laina  female  26.0   \n",
       "4                 Futrelle, Mrs. Jacques Heath (Lily May Peel)  female  35.0   \n",
       "5                                     Allen, Mr. William Henry    male  35.0   \n",
       "\n",
       "             SibSp  Parch            Ticket     Fare Cabin Embarked  \n",
       "PassengerId                                                          \n",
       "1                1      0         A/5 21171   7.2500   NaN        S  \n",
       "2                1      0          PC 17599  71.2833   C85        C  \n",
       "3                0      0  STON/O2. 3101282   7.9250   NaN        S  \n",
       "4                1      0            113803  53.1000  C123        S  \n",
       "5                0      0            373450   8.0500   NaN        S  "
      ]
     },
     "execution_count": 8,
     "metadata": {},
     "output_type": "execute_result"
    }
   ],
   "source": [
    "all_df.head()"
   ]
  },
  {
   "cell_type": "code",
   "execution_count": 9,
   "id": "1820a123",
   "metadata": {
    "execution": {
     "iopub.execute_input": "2021-09-27T14:01:14.783552Z",
     "iopub.status.busy": "2021-09-27T14:01:14.782528Z",
     "iopub.status.idle": "2021-09-27T14:01:14.790660Z",
     "shell.execute_reply": "2021-09-27T14:01:14.791098Z",
     "shell.execute_reply.started": "2021-09-27T13:58:03.690896Z"
    },
    "papermill": {
     "duration": 0.059556,
     "end_time": "2021-09-27T14:01:14.791273",
     "exception": false,
     "start_time": "2021-09-27T14:01:14.731717",
     "status": "completed"
    },
    "tags": []
   },
   "outputs": [
    {
     "name": "stdout",
     "output_type": "stream",
     "text": [
      "<class 'pandas.core.frame.DataFrame'>\n",
      "Int64Index: 1309 entries, 1 to 1309\n",
      "Data columns (total 11 columns):\n",
      " #   Column    Non-Null Count  Dtype  \n",
      "---  ------    --------------  -----  \n",
      " 0   Survived  891 non-null    float64\n",
      " 1   Pclass    1309 non-null   int64  \n",
      " 2   Name      1309 non-null   object \n",
      " 3   Sex       1309 non-null   object \n",
      " 4   Age       1046 non-null   float64\n",
      " 5   SibSp     1309 non-null   int64  \n",
      " 6   Parch     1309 non-null   int64  \n",
      " 7   Ticket    1309 non-null   object \n",
      " 8   Fare      1308 non-null   float64\n",
      " 9   Cabin     295 non-null    object \n",
      " 10  Embarked  1307 non-null   object \n",
      "dtypes: float64(3), int64(3), object(5)\n",
      "memory usage: 122.7+ KB\n"
     ]
    }
   ],
   "source": [
    "all_df.info()"
   ]
  },
  {
   "cell_type": "code",
   "execution_count": 10,
   "id": "94117feb",
   "metadata": {
    "execution": {
     "iopub.execute_input": "2021-09-27T14:01:14.880013Z",
     "iopub.status.busy": "2021-09-27T14:01:14.879096Z",
     "iopub.status.idle": "2021-09-27T14:01:14.883232Z",
     "shell.execute_reply": "2021-09-27T14:01:14.883658Z",
     "shell.execute_reply.started": "2021-09-27T13:58:03.710021Z"
    },
    "papermill": {
     "duration": 0.050995,
     "end_time": "2021-09-27T14:01:14.883832",
     "exception": false,
     "start_time": "2021-09-27T14:01:14.832837",
     "status": "completed"
    },
    "tags": []
   },
   "outputs": [
    {
     "data": {
      "text/plain": [
       "(1309, 11)"
      ]
     },
     "execution_count": 10,
     "metadata": {},
     "output_type": "execute_result"
    }
   ],
   "source": [
    "all_df.shape"
   ]
  },
  {
   "cell_type": "code",
   "execution_count": 11,
   "id": "fb42854f",
   "metadata": {
    "execution": {
     "iopub.execute_input": "2021-09-27T14:01:14.972113Z",
     "iopub.status.busy": "2021-09-27T14:01:14.971446Z",
     "iopub.status.idle": "2021-09-27T14:01:14.980170Z",
     "shell.execute_reply": "2021-09-27T14:01:14.979545Z",
     "shell.execute_reply.started": "2021-09-27T13:58:03.720166Z"
    },
    "papermill": {
     "duration": 0.053839,
     "end_time": "2021-09-27T14:01:14.980314",
     "exception": false,
     "start_time": "2021-09-27T14:01:14.926475",
     "status": "completed"
    },
    "tags": []
   },
   "outputs": [
    {
     "data": {
      "text/html": [
       "<div>\n",
       "<style scoped>\n",
       "    .dataframe tbody tr th:only-of-type {\n",
       "        vertical-align: middle;\n",
       "    }\n",
       "\n",
       "    .dataframe tbody tr th {\n",
       "        vertical-align: top;\n",
       "    }\n",
       "\n",
       "    .dataframe thead th {\n",
       "        text-align: right;\n",
       "    }\n",
       "</style>\n",
       "<table border=\"1\" class=\"dataframe\">\n",
       "  <thead>\n",
       "    <tr style=\"text-align: right;\">\n",
       "      <th></th>\n",
       "      <th>PassengerId</th>\n",
       "      <th>Survived</th>\n",
       "    </tr>\n",
       "  </thead>\n",
       "  <tbody>\n",
       "    <tr>\n",
       "      <th>0</th>\n",
       "      <td>892</td>\n",
       "      <td>0</td>\n",
       "    </tr>\n",
       "    <tr>\n",
       "      <th>1</th>\n",
       "      <td>893</td>\n",
       "      <td>1</td>\n",
       "    </tr>\n",
       "    <tr>\n",
       "      <th>2</th>\n",
       "      <td>894</td>\n",
       "      <td>0</td>\n",
       "    </tr>\n",
       "    <tr>\n",
       "      <th>3</th>\n",
       "      <td>895</td>\n",
       "      <td>0</td>\n",
       "    </tr>\n",
       "    <tr>\n",
       "      <th>4</th>\n",
       "      <td>896</td>\n",
       "      <td>1</td>\n",
       "    </tr>\n",
       "  </tbody>\n",
       "</table>\n",
       "</div>"
      ],
      "text/plain": [
       "   PassengerId  Survived\n",
       "0          892         0\n",
       "1          893         1\n",
       "2          894         0\n",
       "3          895         0\n",
       "4          896         1"
      ]
     },
     "execution_count": 11,
     "metadata": {},
     "output_type": "execute_result"
    }
   ],
   "source": [
    "submit.head()"
   ]
  },
  {
   "cell_type": "code",
   "execution_count": 12,
   "id": "d786c77a",
   "metadata": {
    "execution": {
     "iopub.execute_input": "2021-09-27T14:01:15.070199Z",
     "iopub.status.busy": "2021-09-27T14:01:15.069279Z",
     "iopub.status.idle": "2021-09-27T14:01:15.079983Z",
     "shell.execute_reply": "2021-09-27T14:01:15.080615Z",
     "shell.execute_reply.started": "2021-09-27T13:58:03.732598Z"
    },
    "papermill": {
     "duration": 0.057785,
     "end_time": "2021-09-27T14:01:15.080843",
     "exception": false,
     "start_time": "2021-09-27T14:01:15.023058",
     "status": "completed"
    },
    "tags": []
   },
   "outputs": [
    {
     "name": "stdout",
     "output_type": "stream",
     "text": [
      "<class 'pandas.core.frame.DataFrame'>\n",
      "RangeIndex: 418 entries, 0 to 417\n",
      "Data columns (total 2 columns):\n",
      " #   Column       Non-Null Count  Dtype\n",
      "---  ------       --------------  -----\n",
      " 0   PassengerId  418 non-null    int64\n",
      " 1   Survived     418 non-null    int64\n",
      "dtypes: int64(2)\n",
      "memory usage: 6.7 KB\n"
     ]
    }
   ],
   "source": [
    "submit.info()"
   ]
  },
  {
   "cell_type": "code",
   "execution_count": 13,
   "id": "cc87954a",
   "metadata": {
    "execution": {
     "iopub.execute_input": "2021-09-27T14:01:15.172698Z",
     "iopub.status.busy": "2021-09-27T14:01:15.172108Z",
     "iopub.status.idle": "2021-09-27T14:01:15.175199Z",
     "shell.execute_reply": "2021-09-27T14:01:15.174759Z",
     "shell.execute_reply.started": "2021-09-27T13:58:03.747902Z"
    },
    "papermill": {
     "duration": 0.050286,
     "end_time": "2021-09-27T14:01:15.175342",
     "exception": false,
     "start_time": "2021-09-27T14:01:15.125056",
     "status": "completed"
    },
    "tags": []
   },
   "outputs": [
    {
     "data": {
      "text/plain": [
       "Index(['PassengerId', 'Pclass', 'Name', 'Sex', 'Age', 'SibSp', 'Parch',\n",
       "       'Ticket', 'Fare', 'Cabin', 'Embarked'],\n",
       "      dtype='object')"
      ]
     },
     "execution_count": 13,
     "metadata": {},
     "output_type": "execute_result"
    }
   ],
   "source": [
    "test_df.columns"
   ]
  },
  {
   "cell_type": "markdown",
   "id": "a71d5cdd",
   "metadata": {
    "papermill": {
     "duration": 0.042544,
     "end_time": "2021-09-27T14:01:15.261301",
     "exception": false,
     "start_time": "2021-09-27T14:01:15.218757",
     "status": "completed"
    },
    "tags": []
   },
   "source": [
    "### Drop Unwanted Columns"
   ]
  },
  {
   "cell_type": "markdown",
   "id": "a1afd6e7",
   "metadata": {
    "papermill": {
     "duration": 0.042349,
     "end_time": "2021-09-27T14:01:15.346523",
     "exception": false,
     "start_time": "2021-09-27T14:01:15.304174",
     "status": "completed"
    },
    "tags": []
   },
   "source": [
    "#### Since there are some features that don't affect model training such as Name, Cabin, and Ticket, they need to be removed."
   ]
  },
  {
   "cell_type": "code",
   "execution_count": 14,
   "id": "3a9bc54f",
   "metadata": {
    "execution": {
     "iopub.execute_input": "2021-09-27T14:01:15.437205Z",
     "iopub.status.busy": "2021-09-27T14:01:15.436469Z",
     "iopub.status.idle": "2021-09-27T14:01:15.439955Z",
     "shell.execute_reply": "2021-09-27T14:01:15.439392Z",
     "shell.execute_reply.started": "2021-09-27T13:58:03.754383Z"
    },
    "papermill": {
     "duration": 0.051011,
     "end_time": "2021-09-27T14:01:15.440099",
     "exception": false,
     "start_time": "2021-09-27T14:01:15.389088",
     "status": "completed"
    },
    "tags": []
   },
   "outputs": [
    {
     "data": {
      "text/plain": [
       "Index(['PassengerId', 'Survived', 'Pclass', 'Name', 'Sex', 'Age', 'SibSp',\n",
       "       'Parch', 'Ticket', 'Fare', 'Cabin', 'Embarked'],\n",
       "      dtype='object')"
      ]
     },
     "execution_count": 14,
     "metadata": {},
     "output_type": "execute_result"
    }
   ],
   "source": [
    "train_df.columns"
   ]
  },
  {
   "cell_type": "code",
   "execution_count": 15,
   "id": "68ee0531",
   "metadata": {
    "execution": {
     "iopub.execute_input": "2021-09-27T14:01:15.532811Z",
     "iopub.status.busy": "2021-09-27T14:01:15.532170Z",
     "iopub.status.idle": "2021-09-27T14:01:15.535129Z",
     "shell.execute_reply": "2021-09-27T14:01:15.534596Z",
     "shell.execute_reply.started": "2021-09-27T13:58:03.765901Z"
    },
    "papermill": {
     "duration": 0.05241,
     "end_time": "2021-09-27T14:01:15.535270",
     "exception": false,
     "start_time": "2021-09-27T14:01:15.482860",
     "status": "completed"
    },
    "tags": []
   },
   "outputs": [],
   "source": [
    "train_df = train_df.drop([\"Name\",\"Cabin\",\"Ticket\", \"PassengerId\"],axis=1)\n",
    "test_df = test_df.drop([\"Name\",\"Cabin\",\"Ticket\", \"PassengerId\"],axis=1)"
   ]
  },
  {
   "cell_type": "code",
   "execution_count": 16,
   "id": "0a585e77",
   "metadata": {
    "execution": {
     "iopub.execute_input": "2021-09-27T14:01:15.628780Z",
     "iopub.status.busy": "2021-09-27T14:01:15.627867Z",
     "iopub.status.idle": "2021-09-27T14:01:15.631267Z",
     "shell.execute_reply": "2021-09-27T14:01:15.631712Z",
     "shell.execute_reply.started": "2021-09-27T13:58:03.776608Z"
    },
    "papermill": {
     "duration": 0.051846,
     "end_time": "2021-09-27T14:01:15.631873",
     "exception": false,
     "start_time": "2021-09-27T14:01:15.580027",
     "status": "completed"
    },
    "tags": []
   },
   "outputs": [
    {
     "data": {
      "text/plain": [
       "Index(['Survived', 'Pclass', 'Sex', 'Age', 'SibSp', 'Parch', 'Fare',\n",
       "       'Embarked'],\n",
       "      dtype='object')"
      ]
     },
     "execution_count": 16,
     "metadata": {},
     "output_type": "execute_result"
    }
   ],
   "source": [
    "train_df.columns"
   ]
  },
  {
   "cell_type": "code",
   "execution_count": 17,
   "id": "323fa14a",
   "metadata": {
    "execution": {
     "iopub.execute_input": "2021-09-27T14:01:15.728361Z",
     "iopub.status.busy": "2021-09-27T14:01:15.727417Z",
     "iopub.status.idle": "2021-09-27T14:01:15.731113Z",
     "shell.execute_reply": "2021-09-27T14:01:15.731508Z",
     "shell.execute_reply.started": "2021-09-27T13:58:03.786252Z"
    },
    "papermill": {
     "duration": 0.05472,
     "end_time": "2021-09-27T14:01:15.731682",
     "exception": false,
     "start_time": "2021-09-27T14:01:15.676962",
     "status": "completed"
    },
    "tags": []
   },
   "outputs": [
    {
     "data": {
      "text/plain": [
       "Index(['Pclass', 'Sex', 'Age', 'SibSp', 'Parch', 'Fare', 'Embarked'], dtype='object')"
      ]
     },
     "execution_count": 17,
     "metadata": {},
     "output_type": "execute_result"
    }
   ],
   "source": [
    "test_df.columns"
   ]
  },
  {
   "cell_type": "markdown",
   "id": "4606498d",
   "metadata": {
    "papermill": {
     "duration": 0.044188,
     "end_time": "2021-09-27T14:01:15.820977",
     "exception": false,
     "start_time": "2021-09-27T14:01:15.776789",
     "status": "completed"
    },
    "tags": []
   },
   "source": [
    "### Checking Missing Values"
   ]
  },
  {
   "cell_type": "code",
   "execution_count": 18,
   "id": "5d5f7250",
   "metadata": {
    "execution": {
     "iopub.execute_input": "2021-09-27T14:01:15.915583Z",
     "iopub.status.busy": "2021-09-27T14:01:15.913354Z",
     "iopub.status.idle": "2021-09-27T14:01:15.918623Z",
     "shell.execute_reply": "2021-09-27T14:01:15.918072Z",
     "shell.execute_reply.started": "2021-09-27T13:58:03.798583Z"
    },
    "papermill": {
     "duration": 0.054083,
     "end_time": "2021-09-27T14:01:15.918768",
     "exception": false,
     "start_time": "2021-09-27T14:01:15.864685",
     "status": "completed"
    },
    "tags": []
   },
   "outputs": [
    {
     "data": {
      "text/plain": [
       "Survived      0\n",
       "Pclass        0\n",
       "Sex           0\n",
       "Age         177\n",
       "SibSp         0\n",
       "Parch         0\n",
       "Fare          0\n",
       "Embarked      2\n",
       "dtype: int64"
      ]
     },
     "execution_count": 18,
     "metadata": {},
     "output_type": "execute_result"
    }
   ],
   "source": [
    "train_df.isnull().sum()"
   ]
  },
  {
   "cell_type": "code",
   "execution_count": 19,
   "id": "e2f86982",
   "metadata": {
    "execution": {
     "iopub.execute_input": "2021-09-27T14:01:16.014550Z",
     "iopub.status.busy": "2021-09-27T14:01:16.013630Z",
     "iopub.status.idle": "2021-09-27T14:01:16.017493Z",
     "shell.execute_reply": "2021-09-27T14:01:16.016943Z",
     "shell.execute_reply.started": "2021-09-27T13:58:03.810371Z"
    },
    "papermill": {
     "duration": 0.054846,
     "end_time": "2021-09-27T14:01:16.017623",
     "exception": false,
     "start_time": "2021-09-27T14:01:15.962777",
     "status": "completed"
    },
    "tags": []
   },
   "outputs": [
    {
     "data": {
      "text/plain": [
       "Pclass       0\n",
       "Sex          0\n",
       "Age         86\n",
       "SibSp        0\n",
       "Parch        0\n",
       "Fare         1\n",
       "Embarked     0\n",
       "dtype: int64"
      ]
     },
     "execution_count": 19,
     "metadata": {},
     "output_type": "execute_result"
    }
   ],
   "source": [
    "test_df.isnull().sum()"
   ]
  },
  {
   "cell_type": "markdown",
   "id": "4ca726dd",
   "metadata": {
    "papermill": {
     "duration": 0.044239,
     "end_time": "2021-09-27T14:01:16.106277",
     "exception": false,
     "start_time": "2021-09-27T14:01:16.062038",
     "status": "completed"
    },
    "tags": []
   },
   "source": [
    "### Checking the correlation of the features"
   ]
  },
  {
   "cell_type": "code",
   "execution_count": 20,
   "id": "3dcdab44",
   "metadata": {
    "execution": {
     "iopub.execute_input": "2021-09-27T14:01:16.216042Z",
     "iopub.status.busy": "2021-09-27T14:01:16.215408Z",
     "iopub.status.idle": "2021-09-27T14:01:16.728378Z",
     "shell.execute_reply": "2021-09-27T14:01:16.727755Z",
     "shell.execute_reply.started": "2021-09-27T13:58:03.820012Z"
    },
    "papermill": {
     "duration": 0.578164,
     "end_time": "2021-09-27T14:01:16.728541",
     "exception": false,
     "start_time": "2021-09-27T14:01:16.150377",
     "status": "completed"
    },
    "tags": []
   },
   "outputs": [
    {
     "data": {
      "image/png": "[encoded data removed]",
      "text/plain": [
       "<Figure size 720x576 with 2 Axes>"
      ]
     },
     "metadata": {
      "needs_background": "light"
     },
     "output_type": "display_data"
    }
   ],
   "source": [
    "plt.figure(figsize=(10,8))\n",
    "sns.heatmap(data = train_df.corr(), annot = True, cmap = 'RdPu_r')\n",
    "plt.show()"
   ]
  },
  {
   "cell_type": "markdown",
   "id": "48ae79c5",
   "metadata": {
    "papermill": {
     "duration": 0.045361,
     "end_time": "2021-09-27T14:01:16.819526",
     "exception": false,
     "start_time": "2021-09-27T14:01:16.774165",
     "status": "completed"
    },
    "tags": []
   },
   "source": [
    "#### From this observation Fare and Parch are the most correlated features with Survived features with a score of 26% and 8.2% compared to other features, Fare and Parch features can be used to predict the survivors."
   ]
  },
  {
   "cell_type": "markdown",
   "id": "1fef6a7d",
   "metadata": {
    "papermill": {
     "duration": 0.045197,
     "end_time": "2021-09-27T14:01:16.909980",
     "exception": false,
     "start_time": "2021-09-27T14:01:16.864783",
     "status": "completed"
    },
    "tags": []
   },
   "source": [
    "# Taking Care of Missing Data"
   ]
  },
  {
   "cell_type": "code",
   "execution_count": 21,
   "id": "eed0d90d",
   "metadata": {
    "execution": {
     "iopub.execute_input": "2021-09-27T14:01:17.009089Z",
     "iopub.status.busy": "2021-09-27T14:01:17.008480Z",
     "iopub.status.idle": "2021-09-27T14:01:17.013112Z",
     "shell.execute_reply": "2021-09-27T14:01:17.013657Z",
     "shell.execute_reply.started": "2021-09-27T13:58:04.314324Z"
    },
    "papermill": {
     "duration": 0.058363,
     "end_time": "2021-09-27T14:01:17.013827",
     "exception": false,
     "start_time": "2021-09-27T14:01:16.955464",
     "status": "completed"
    },
    "tags": []
   },
   "outputs": [
    {
     "data": {
      "text/plain": [
       "Survived      0\n",
       "Pclass        0\n",
       "Sex           0\n",
       "Age         177\n",
       "SibSp         0\n",
       "Parch         0\n",
       "Fare          0\n",
       "Embarked      2\n",
       "dtype: int64"
      ]
     },
     "execution_count": 21,
     "metadata": {},
     "output_type": "execute_result"
    }
   ],
   "source": [
    "train_df.isnull().sum()"
   ]
  },
  {
   "cell_type": "code",
   "execution_count": 22,
   "id": "f09b33c1",
   "metadata": {
    "execution": {
     "iopub.execute_input": "2021-09-27T14:01:17.111934Z",
     "iopub.status.busy": "2021-09-27T14:01:17.111302Z",
     "iopub.status.idle": "2021-09-27T14:01:17.118149Z",
     "shell.execute_reply": "2021-09-27T14:01:17.118598Z",
     "shell.execute_reply.started": "2021-09-27T13:58:04.323499Z"
    },
    "papermill": {
     "duration": 0.058429,
     "end_time": "2021-09-27T14:01:17.118760",
     "exception": false,
     "start_time": "2021-09-27T14:01:17.060331",
     "status": "completed"
    },
    "tags": []
   },
   "outputs": [
    {
     "data": {
      "text/plain": [
       "Pclass       0\n",
       "Sex          0\n",
       "Age         86\n",
       "SibSp        0\n",
       "Parch        0\n",
       "Fare         1\n",
       "Embarked     0\n",
       "dtype: int64"
      ]
     },
     "execution_count": 22,
     "metadata": {},
     "output_type": "execute_result"
    }
   ],
   "source": [
    "test_df.isnull().sum()"
   ]
  },
  {
   "cell_type": "code",
   "execution_count": 23,
   "id": "ce404f41",
   "metadata": {
    "execution": {
     "iopub.execute_input": "2021-09-27T14:01:17.215157Z",
     "iopub.status.busy": "2021-09-27T14:01:17.214396Z",
     "iopub.status.idle": "2021-09-27T14:01:17.222441Z",
     "shell.execute_reply": "2021-09-27T14:01:17.221880Z",
     "shell.execute_reply.started": "2021-09-27T13:58:04.336524Z"
    },
    "papermill": {
     "duration": 0.057005,
     "end_time": "2021-09-27T14:01:17.222617",
     "exception": false,
     "start_time": "2021-09-27T14:01:17.165612",
     "status": "completed"
    },
    "tags": []
   },
   "outputs": [],
   "source": [
    "# Fill the missing data with the mean value of the columns\n",
    "train_df['Age'] = train_df['Age'].fillna(train_df['Age'].mean())\n",
    "\n",
    "test_df['Age'] = test_df['Age'].fillna(test_df['Age'].mean())\n",
    "test_df['Fare'] = test_df['Fare'].fillna(test_df['Fare'].mean())\n",
    "\n"
   ]
  },
  {
   "cell_type": "code",
   "execution_count": 24,
   "id": "91895115",
   "metadata": {
    "execution": {
     "iopub.execute_input": "2021-09-27T14:01:17.317125Z",
     "iopub.status.busy": "2021-09-27T14:01:17.316460Z",
     "iopub.status.idle": "2021-09-27T14:01:17.326335Z",
     "shell.execute_reply": "2021-09-27T14:01:17.325810Z",
     "shell.execute_reply.started": "2021-09-27T13:58:04.348976Z"
    },
    "papermill": {
     "duration": 0.058198,
     "end_time": "2021-09-27T14:01:17.326482",
     "exception": false,
     "start_time": "2021-09-27T14:01:17.268284",
     "status": "completed"
    },
    "tags": []
   },
   "outputs": [],
   "source": [
    "train_df[\"Age\"].fillna(np.random.choice(train_df['Age'][~train_df['Age'].isna()]),inplace = True)\n",
    "\n",
    "\n",
    "test_df[\"Age\"].fillna(np.random.choice(train_df['Age'][~train_df['Age'].isna()]),inplace = True)\n",
    "test_df[\"Fare\"].fillna(np.random.choice(train_df['Fare'][~train_df['Fare'].isna()]),inplace = True)"
   ]
  },
  {
   "cell_type": "code",
   "execution_count": 25,
   "id": "0a6109f6",
   "metadata": {
    "execution": {
     "iopub.execute_input": "2021-09-27T14:01:17.431299Z",
     "iopub.status.busy": "2021-09-27T14:01:17.429149Z",
     "iopub.status.idle": "2021-09-27T14:01:17.433998Z",
     "shell.execute_reply": "2021-09-27T14:01:17.434438Z",
     "shell.execute_reply.started": "2021-09-27T13:58:04.361288Z"
    },
    "papermill": {
     "duration": 0.061241,
     "end_time": "2021-09-27T14:01:17.434607",
     "exception": false,
     "start_time": "2021-09-27T14:01:17.373366",
     "status": "completed"
    },
    "tags": []
   },
   "outputs": [
    {
     "data": {
      "text/plain": [
       "Survived    0\n",
       "Pclass      0\n",
       "Sex         0\n",
       "Age         0\n",
       "SibSp       0\n",
       "Parch       0\n",
       "Fare        0\n",
       "Embarked    2\n",
       "dtype: int64"
      ]
     },
     "execution_count": 25,
     "metadata": {},
     "output_type": "execute_result"
    }
   ],
   "source": [
    "train_df.isnull().sum()"
   ]
  },
  {
   "cell_type": "code",
   "execution_count": 26,
   "id": "ece4d8b5",
   "metadata": {
    "execution": {
     "iopub.execute_input": "2021-09-27T14:01:17.535514Z",
     "iopub.status.busy": "2021-09-27T14:01:17.534799Z",
     "iopub.status.idle": "2021-09-27T14:01:17.537795Z",
     "shell.execute_reply": "2021-09-27T14:01:17.538235Z",
     "shell.execute_reply.started": "2021-09-27T13:58:04.376218Z"
    },
    "papermill": {
     "duration": 0.057102,
     "end_time": "2021-09-27T14:01:17.538397",
     "exception": false,
     "start_time": "2021-09-27T14:01:17.481295",
     "status": "completed"
    },
    "tags": []
   },
   "outputs": [
    {
     "data": {
      "text/plain": [
       "Pclass      0\n",
       "Sex         0\n",
       "Age         0\n",
       "SibSp       0\n",
       "Parch       0\n",
       "Fare        0\n",
       "Embarked    0\n",
       "dtype: int64"
      ]
     },
     "execution_count": 26,
     "metadata": {},
     "output_type": "execute_result"
    }
   ],
   "source": [
    "test_df.isnull().sum()"
   ]
  },
  {
   "cell_type": "code",
   "execution_count": 27,
   "id": "ba604ba7",
   "metadata": {
    "execution": {
     "iopub.execute_input": "2021-09-27T14:01:17.635528Z",
     "iopub.status.busy": "2021-09-27T14:01:17.634626Z",
     "iopub.status.idle": "2021-09-27T14:01:17.640571Z",
     "shell.execute_reply": "2021-09-27T14:01:17.641084Z",
     "shell.execute_reply.started": "2021-09-27T13:58:04.385557Z"
    },
    "papermill": {
     "duration": 0.055764,
     "end_time": "2021-09-27T14:01:17.641257",
     "exception": false,
     "start_time": "2021-09-27T14:01:17.585493",
     "status": "completed"
    },
    "tags": []
   },
   "outputs": [],
   "source": [
    "train_df = train_df.dropna()"
   ]
  },
  {
   "cell_type": "markdown",
   "id": "d00c11f8",
   "metadata": {
    "papermill": {
     "duration": 0.045801,
     "end_time": "2021-09-27T14:01:17.733485",
     "exception": false,
     "start_time": "2021-09-27T14:01:17.687684",
     "status": "completed"
    },
    "tags": []
   },
   "source": [
    "# Encoding Categorical Data"
   ]
  },
  {
   "cell_type": "markdown",
   "id": "978a1a6b",
   "metadata": {
    "papermill": {
     "duration": 0.04689,
     "end_time": "2021-09-27T14:01:17.828950",
     "exception": false,
     "start_time": "2021-09-27T14:01:17.782060",
     "status": "completed"
    },
    "tags": []
   },
   "source": [
    "## Label Encoding"
   ]
  },
  {
   "cell_type": "code",
   "execution_count": 28,
   "id": "e601cb61",
   "metadata": {
    "execution": {
     "iopub.execute_input": "2021-09-27T14:01:17.933976Z",
     "iopub.status.busy": "2021-09-27T14:01:17.924570Z",
     "iopub.status.idle": "2021-09-27T14:01:17.937847Z",
     "shell.execute_reply": "2021-09-27T14:01:17.937390Z",
     "shell.execute_reply.started": "2021-09-27T13:58:04.393465Z"
    },
    "papermill": {
     "duration": 0.062781,
     "end_time": "2021-09-27T14:01:17.938002",
     "exception": false,
     "start_time": "2021-09-27T14:01:17.875221",
     "status": "completed"
    },
    "tags": []
   },
   "outputs": [
    {
     "data": {
      "text/html": [
       "<div>\n",
       "<style scoped>\n",
       "    .dataframe tbody tr th:only-of-type {\n",
       "        vertical-align: middle;\n",
       "    }\n",
       "\n",
       "    .dataframe tbody tr th {\n",
       "        vertical-align: top;\n",
       "    }\n",
       "\n",
       "    .dataframe thead th {\n",
       "        text-align: right;\n",
       "    }\n",
       "</style>\n",
       "<table border=\"1\" class=\"dataframe\">\n",
       "  <thead>\n",
       "    <tr style=\"text-align: right;\">\n",
       "      <th></th>\n",
       "      <th>Survived</th>\n",
       "      <th>Pclass</th>\n",
       "      <th>Sex</th>\n",
       "      <th>Age</th>\n",
       "      <th>SibSp</th>\n",
       "      <th>Parch</th>\n",
       "      <th>Fare</th>\n",
       "      <th>Embarked</th>\n",
       "    </tr>\n",
       "  </thead>\n",
       "  <tbody>\n",
       "    <tr>\n",
       "      <th>0</th>\n",
       "      <td>0</td>\n",
       "      <td>3</td>\n",
       "      <td>male</td>\n",
       "      <td>22.0</td>\n",
       "      <td>1</td>\n",
       "      <td>0</td>\n",
       "      <td>7.2500</td>\n",
       "      <td>S</td>\n",
       "    </tr>\n",
       "    <tr>\n",
       "      <th>1</th>\n",
       "      <td>1</td>\n",
       "      <td>1</td>\n",
       "      <td>female</td>\n",
       "      <td>38.0</td>\n",
       "      <td>1</td>\n",
       "      <td>0</td>\n",
       "      <td>71.2833</td>\n",
       "      <td>C</td>\n",
       "    </tr>\n",
       "    <tr>\n",
       "      <th>2</th>\n",
       "      <td>1</td>\n",
       "      <td>3</td>\n",
       "      <td>female</td>\n",
       "      <td>26.0</td>\n",
       "      <td>0</td>\n",
       "      <td>0</td>\n",
       "      <td>7.9250</td>\n",
       "      <td>S</td>\n",
       "    </tr>\n",
       "    <tr>\n",
       "      <th>3</th>\n",
       "      <td>1</td>\n",
       "      <td>1</td>\n",
       "      <td>female</td>\n",
       "      <td>35.0</td>\n",
       "      <td>1</td>\n",
       "      <td>0</td>\n",
       "      <td>53.1000</td>\n",
       "      <td>S</td>\n",
       "    </tr>\n",
       "    <tr>\n",
       "      <th>4</th>\n",
       "      <td>0</td>\n",
       "      <td>3</td>\n",
       "      <td>male</td>\n",
       "      <td>35.0</td>\n",
       "      <td>0</td>\n",
       "      <td>0</td>\n",
       "      <td>8.0500</td>\n",
       "      <td>S</td>\n",
       "    </tr>\n",
       "  </tbody>\n",
       "</table>\n",
       "</div>"
      ],
      "text/plain": [
       "   Survived  Pclass     Sex   Age  SibSp  Parch     Fare Embarked\n",
       "0         0       3    male  22.0      1      0   7.2500        S\n",
       "1         1       1  female  38.0      1      0  71.2833        C\n",
       "2         1       3  female  26.0      0      0   7.9250        S\n",
       "3         1       1  female  35.0      1      0  53.1000        S\n",
       "4         0       3    male  35.0      0      0   8.0500        S"
      ]
     },
     "execution_count": 28,
     "metadata": {},
     "output_type": "execute_result"
    }
   ],
   "source": [
    "train_df.head()"
   ]
  },
  {
   "cell_type": "code",
   "execution_count": 29,
   "id": "237d946e",
   "metadata": {
    "execution": {
     "iopub.execute_input": "2021-09-27T14:01:18.044393Z",
     "iopub.status.busy": "2021-09-27T14:01:18.043700Z",
     "iopub.status.idle": "2021-09-27T14:01:18.046504Z",
     "shell.execute_reply": "2021-09-27T14:01:18.046964Z",
     "shell.execute_reply.started": "2021-09-27T13:58:04.409859Z"
    },
    "papermill": {
     "duration": 0.061998,
     "end_time": "2021-09-27T14:01:18.047135",
     "exception": false,
     "start_time": "2021-09-27T14:01:17.985137",
     "status": "completed"
    },
    "tags": []
   },
   "outputs": [
    {
     "data": {
      "text/html": [
       "<div>\n",
       "<style scoped>\n",
       "    .dataframe tbody tr th:only-of-type {\n",
       "        vertical-align: middle;\n",
       "    }\n",
       "\n",
       "    .dataframe tbody tr th {\n",
       "        vertical-align: top;\n",
       "    }\n",
       "\n",
       "    .dataframe thead th {\n",
       "        text-align: right;\n",
       "    }\n",
       "</style>\n",
       "<table border=\"1\" class=\"dataframe\">\n",
       "  <thead>\n",
       "    <tr style=\"text-align: right;\">\n",
       "      <th></th>\n",
       "      <th>Pclass</th>\n",
       "      <th>Sex</th>\n",
       "      <th>Age</th>\n",
       "      <th>SibSp</th>\n",
       "      <th>Parch</th>\n",
       "      <th>Fare</th>\n",
       "      <th>Embarked</th>\n",
       "    </tr>\n",
       "  </thead>\n",
       "  <tbody>\n",
       "    <tr>\n",
       "      <th>0</th>\n",
       "      <td>3</td>\n",
       "      <td>male</td>\n",
       "      <td>34.5</td>\n",
       "      <td>0</td>\n",
       "      <td>0</td>\n",
       "      <td>7.8292</td>\n",
       "      <td>Q</td>\n",
       "    </tr>\n",
       "    <tr>\n",
       "      <th>1</th>\n",
       "      <td>3</td>\n",
       "      <td>female</td>\n",
       "      <td>47.0</td>\n",
       "      <td>1</td>\n",
       "      <td>0</td>\n",
       "      <td>7.0000</td>\n",
       "      <td>S</td>\n",
       "    </tr>\n",
       "    <tr>\n",
       "      <th>2</th>\n",
       "      <td>2</td>\n",
       "      <td>male</td>\n",
       "      <td>62.0</td>\n",
       "      <td>0</td>\n",
       "      <td>0</td>\n",
       "      <td>9.6875</td>\n",
       "      <td>Q</td>\n",
       "    </tr>\n",
       "    <tr>\n",
       "      <th>3</th>\n",
       "      <td>3</td>\n",
       "      <td>male</td>\n",
       "      <td>27.0</td>\n",
       "      <td>0</td>\n",
       "      <td>0</td>\n",
       "      <td>8.6625</td>\n",
       "      <td>S</td>\n",
       "    </tr>\n",
       "    <tr>\n",
       "      <th>4</th>\n",
       "      <td>3</td>\n",
       "      <td>female</td>\n",
       "      <td>22.0</td>\n",
       "      <td>1</td>\n",
       "      <td>1</td>\n",
       "      <td>12.2875</td>\n",
       "      <td>S</td>\n",
       "    </tr>\n",
       "  </tbody>\n",
       "</table>\n",
       "</div>"
      ],
      "text/plain": [
       "   Pclass     Sex   Age  SibSp  Parch     Fare Embarked\n",
       "0       3    male  34.5      0      0   7.8292        Q\n",
       "1       3  female  47.0      1      0   7.0000        S\n",
       "2       2    male  62.0      0      0   9.6875        Q\n",
       "3       3    male  27.0      0      0   8.6625        S\n",
       "4       3  female  22.0      1      1  12.2875        S"
      ]
     },
     "execution_count": 29,
     "metadata": {},
     "output_type": "execute_result"
    }
   ],
   "source": [
    "test_df.head()"
   ]
  },
  {
   "cell_type": "code",
   "execution_count": 30,
   "id": "ee2dcb29",
   "metadata": {
    "execution": {
     "iopub.execute_input": "2021-09-27T14:01:18.147804Z",
     "iopub.status.busy": "2021-09-27T14:01:18.147192Z",
     "iopub.status.idle": "2021-09-27T14:01:18.154230Z",
     "shell.execute_reply": "2021-09-27T14:01:18.154708Z",
     "shell.execute_reply.started": "2021-09-27T13:58:04.423044Z"
    },
    "papermill": {
     "duration": 0.058383,
     "end_time": "2021-09-27T14:01:18.154874",
     "exception": false,
     "start_time": "2021-09-27T14:01:18.096491",
     "status": "completed"
    },
    "tags": []
   },
   "outputs": [],
   "source": [
    "# Change the values of sex column to categorical values\n",
    "train_df['Sex'].replace({'male':0,'female':1},inplace=True)\n",
    "test_df['Sex'].replace({'male':0,'female':1},inplace=True)"
   ]
  },
  {
   "cell_type": "code",
   "execution_count": 31,
   "id": "5c6ba08b",
   "metadata": {
    "execution": {
     "iopub.execute_input": "2021-09-27T14:01:18.252863Z",
     "iopub.status.busy": "2021-09-27T14:01:18.252282Z",
     "iopub.status.idle": "2021-09-27T14:01:18.259037Z",
     "shell.execute_reply": "2021-09-27T14:01:18.259545Z",
     "shell.execute_reply.started": "2021-09-27T13:58:04.435684Z"
    },
    "papermill": {
     "duration": 0.057027,
     "end_time": "2021-09-27T14:01:18.259757",
     "exception": false,
     "start_time": "2021-09-27T14:01:18.202730",
     "status": "completed"
    },
    "tags": []
   },
   "outputs": [],
   "source": [
    "train_df[\"Sex\"] = train_df[\"Sex\"].astype(str).astype(float)\n",
    "test_df[\"Sex\"] = test_df[\"Sex\"].astype(str).astype(float)"
   ]
  },
  {
   "cell_type": "code",
   "execution_count": 32,
   "id": "355ee8fc",
   "metadata": {
    "execution": {
     "iopub.execute_input": "2021-09-27T14:01:18.357998Z",
     "iopub.status.busy": "2021-09-27T14:01:18.357354Z",
     "iopub.status.idle": "2021-09-27T14:01:18.369124Z",
     "shell.execute_reply": "2021-09-27T14:01:18.369563Z",
     "shell.execute_reply.started": "2021-09-27T13:58:04.449242Z"
    },
    "papermill": {
     "duration": 0.062279,
     "end_time": "2021-09-27T14:01:18.369729",
     "exception": false,
     "start_time": "2021-09-27T14:01:18.307450",
     "status": "completed"
    },
    "tags": []
   },
   "outputs": [
    {
     "data": {
      "text/html": [
       "<div>\n",
       "<style scoped>\n",
       "    .dataframe tbody tr th:only-of-type {\n",
       "        vertical-align: middle;\n",
       "    }\n",
       "\n",
       "    .dataframe tbody tr th {\n",
       "        vertical-align: top;\n",
       "    }\n",
       "\n",
       "    .dataframe thead th {\n",
       "        text-align: right;\n",
       "    }\n",
       "</style>\n",
       "<table border=\"1\" class=\"dataframe\">\n",
       "  <thead>\n",
       "    <tr style=\"text-align: right;\">\n",
       "      <th></th>\n",
       "      <th>Survived</th>\n",
       "      <th>Pclass</th>\n",
       "      <th>Sex</th>\n",
       "      <th>Age</th>\n",
       "      <th>SibSp</th>\n",
       "      <th>Parch</th>\n",
       "      <th>Fare</th>\n",
       "      <th>Embarked</th>\n",
       "    </tr>\n",
       "  </thead>\n",
       "  <tbody>\n",
       "    <tr>\n",
       "      <th>0</th>\n",
       "      <td>0</td>\n",
       "      <td>3</td>\n",
       "      <td>0.0</td>\n",
       "      <td>22.0</td>\n",
       "      <td>1</td>\n",
       "      <td>0</td>\n",
       "      <td>7.2500</td>\n",
       "      <td>S</td>\n",
       "    </tr>\n",
       "    <tr>\n",
       "      <th>1</th>\n",
       "      <td>1</td>\n",
       "      <td>1</td>\n",
       "      <td>1.0</td>\n",
       "      <td>38.0</td>\n",
       "      <td>1</td>\n",
       "      <td>0</td>\n",
       "      <td>71.2833</td>\n",
       "      <td>C</td>\n",
       "    </tr>\n",
       "    <tr>\n",
       "      <th>2</th>\n",
       "      <td>1</td>\n",
       "      <td>3</td>\n",
       "      <td>1.0</td>\n",
       "      <td>26.0</td>\n",
       "      <td>0</td>\n",
       "      <td>0</td>\n",
       "      <td>7.9250</td>\n",
       "      <td>S</td>\n",
       "    </tr>\n",
       "    <tr>\n",
       "      <th>3</th>\n",
       "      <td>1</td>\n",
       "      <td>1</td>\n",
       "      <td>1.0</td>\n",
       "      <td>35.0</td>\n",
       "      <td>1</td>\n",
       "      <td>0</td>\n",
       "      <td>53.1000</td>\n",
       "      <td>S</td>\n",
       "    </tr>\n",
       "    <tr>\n",
       "      <th>4</th>\n",
       "      <td>0</td>\n",
       "      <td>3</td>\n",
       "      <td>0.0</td>\n",
       "      <td>35.0</td>\n",
       "      <td>0</td>\n",
       "      <td>0</td>\n",
       "      <td>8.0500</td>\n",
       "      <td>S</td>\n",
       "    </tr>\n",
       "  </tbody>\n",
       "</table>\n",
       "</div>"
      ],
      "text/plain": [
       "   Survived  Pclass  Sex   Age  SibSp  Parch     Fare Embarked\n",
       "0         0       3  0.0  22.0      1      0   7.2500        S\n",
       "1         1       1  1.0  38.0      1      0  71.2833        C\n",
       "2         1       3  1.0  26.0      0      0   7.9250        S\n",
       "3         1       1  1.0  35.0      1      0  53.1000        S\n",
       "4         0       3  0.0  35.0      0      0   8.0500        S"
      ]
     },
     "execution_count": 32,
     "metadata": {},
     "output_type": "execute_result"
    }
   ],
   "source": [
    "train_df.head()"
   ]
  },
  {
   "cell_type": "code",
   "execution_count": 33,
   "id": "73433ec2",
   "metadata": {
    "execution": {
     "iopub.execute_input": "2021-09-27T14:01:18.471068Z",
     "iopub.status.busy": "2021-09-27T14:01:18.470444Z",
     "iopub.status.idle": "2021-09-27T14:01:18.481613Z",
     "shell.execute_reply": "2021-09-27T14:01:18.482161Z",
     "shell.execute_reply.started": "2021-09-27T13:58:04.468587Z"
    },
    "papermill": {
     "duration": 0.063297,
     "end_time": "2021-09-27T14:01:18.482338",
     "exception": false,
     "start_time": "2021-09-27T14:01:18.419041",
     "status": "completed"
    },
    "tags": []
   },
   "outputs": [
    {
     "data": {
      "text/html": [
       "<div>\n",
       "<style scoped>\n",
       "    .dataframe tbody tr th:only-of-type {\n",
       "        vertical-align: middle;\n",
       "    }\n",
       "\n",
       "    .dataframe tbody tr th {\n",
       "        vertical-align: top;\n",
       "    }\n",
       "\n",
       "    .dataframe thead th {\n",
       "        text-align: right;\n",
       "    }\n",
       "</style>\n",
       "<table border=\"1\" class=\"dataframe\">\n",
       "  <thead>\n",
       "    <tr style=\"text-align: right;\">\n",
       "      <th></th>\n",
       "      <th>Pclass</th>\n",
       "      <th>Sex</th>\n",
       "      <th>Age</th>\n",
       "      <th>SibSp</th>\n",
       "      <th>Parch</th>\n",
       "      <th>Fare</th>\n",
       "      <th>Embarked</th>\n",
       "    </tr>\n",
       "  </thead>\n",
       "  <tbody>\n",
       "    <tr>\n",
       "      <th>0</th>\n",
       "      <td>3</td>\n",
       "      <td>0.0</td>\n",
       "      <td>34.5</td>\n",
       "      <td>0</td>\n",
       "      <td>0</td>\n",
       "      <td>7.8292</td>\n",
       "      <td>Q</td>\n",
       "    </tr>\n",
       "    <tr>\n",
       "      <th>1</th>\n",
       "      <td>3</td>\n",
       "      <td>1.0</td>\n",
       "      <td>47.0</td>\n",
       "      <td>1</td>\n",
       "      <td>0</td>\n",
       "      <td>7.0000</td>\n",
       "      <td>S</td>\n",
       "    </tr>\n",
       "    <tr>\n",
       "      <th>2</th>\n",
       "      <td>2</td>\n",
       "      <td>0.0</td>\n",
       "      <td>62.0</td>\n",
       "      <td>0</td>\n",
       "      <td>0</td>\n",
       "      <td>9.6875</td>\n",
       "      <td>Q</td>\n",
       "    </tr>\n",
       "    <tr>\n",
       "      <th>3</th>\n",
       "      <td>3</td>\n",
       "      <td>0.0</td>\n",
       "      <td>27.0</td>\n",
       "      <td>0</td>\n",
       "      <td>0</td>\n",
       "      <td>8.6625</td>\n",
       "      <td>S</td>\n",
       "    </tr>\n",
       "    <tr>\n",
       "      <th>4</th>\n",
       "      <td>3</td>\n",
       "      <td>1.0</td>\n",
       "      <td>22.0</td>\n",
       "      <td>1</td>\n",
       "      <td>1</td>\n",
       "      <td>12.2875</td>\n",
       "      <td>S</td>\n",
       "    </tr>\n",
       "  </tbody>\n",
       "</table>\n",
       "</div>"
      ],
      "text/plain": [
       "   Pclass  Sex   Age  SibSp  Parch     Fare Embarked\n",
       "0       3  0.0  34.5      0      0   7.8292        Q\n",
       "1       3  1.0  47.0      1      0   7.0000        S\n",
       "2       2  0.0  62.0      0      0   9.6875        Q\n",
       "3       3  0.0  27.0      0      0   8.6625        S\n",
       "4       3  1.0  22.0      1      1  12.2875        S"
      ]
     },
     "execution_count": 33,
     "metadata": {},
     "output_type": "execute_result"
    }
   ],
   "source": [
    "test_df.head()"
   ]
  },
  {
   "cell_type": "markdown",
   "id": "98fe0b7a",
   "metadata": {
    "papermill": {
     "duration": 0.048178,
     "end_time": "2021-09-27T14:01:18.578686",
     "exception": false,
     "start_time": "2021-09-27T14:01:18.530508",
     "status": "completed"
    },
    "tags": []
   },
   "source": [
    "### Ordered Integer Encoding"
   ]
  },
  {
   "cell_type": "code",
   "execution_count": 34,
   "id": "187be4a2",
   "metadata": {
    "execution": {
     "iopub.execute_input": "2021-09-27T14:01:18.678970Z",
     "iopub.status.busy": "2021-09-27T14:01:18.678345Z",
     "iopub.status.idle": "2021-09-27T14:01:18.685173Z",
     "shell.execute_reply": "2021-09-27T14:01:18.685683Z",
     "shell.execute_reply.started": "2021-09-27T13:58:04.487455Z"
    },
    "papermill": {
     "duration": 0.057977,
     "end_time": "2021-09-27T14:01:18.685852",
     "exception": false,
     "start_time": "2021-09-27T14:01:18.627875",
     "status": "completed"
    },
    "tags": []
   },
   "outputs": [],
   "source": [
    "train_df['Embarked'].replace({'S':1,'C':2,'Q':3},inplace=True)\n",
    "test_df['Embarked'].replace({'S':1,'C':2,'Q':3},inplace=True)"
   ]
  },
  {
   "cell_type": "code",
   "execution_count": 35,
   "id": "e03d0a5e",
   "metadata": {
    "execution": {
     "iopub.execute_input": "2021-09-27T14:01:18.795504Z",
     "iopub.status.busy": "2021-09-27T14:01:18.787043Z",
     "iopub.status.idle": "2021-09-27T14:01:18.799783Z",
     "shell.execute_reply": "2021-09-27T14:01:18.799293Z",
     "shell.execute_reply.started": "2021-09-27T13:58:04.500326Z"
    },
    "papermill": {
     "duration": 0.064337,
     "end_time": "2021-09-27T14:01:18.799935",
     "exception": false,
     "start_time": "2021-09-27T14:01:18.735598",
     "status": "completed"
    },
    "tags": []
   },
   "outputs": [
    {
     "data": {
      "text/html": [
       "<div>\n",
       "<style scoped>\n",
       "    .dataframe tbody tr th:only-of-type {\n",
       "        vertical-align: middle;\n",
       "    }\n",
       "\n",
       "    .dataframe tbody tr th {\n",
       "        vertical-align: top;\n",
       "    }\n",
       "\n",
       "    .dataframe thead th {\n",
       "        text-align: right;\n",
       "    }\n",
       "</style>\n",
       "<table border=\"1\" class=\"dataframe\">\n",
       "  <thead>\n",
       "    <tr style=\"text-align: right;\">\n",
       "      <th></th>\n",
       "      <th>Survived</th>\n",
       "      <th>Pclass</th>\n",
       "      <th>Sex</th>\n",
       "      <th>Age</th>\n",
       "      <th>SibSp</th>\n",
       "      <th>Parch</th>\n",
       "      <th>Fare</th>\n",
       "      <th>Embarked</th>\n",
       "    </tr>\n",
       "  </thead>\n",
       "  <tbody>\n",
       "    <tr>\n",
       "      <th>0</th>\n",
       "      <td>0</td>\n",
       "      <td>3</td>\n",
       "      <td>0.0</td>\n",
       "      <td>22.0</td>\n",
       "      <td>1</td>\n",
       "      <td>0</td>\n",
       "      <td>7.2500</td>\n",
       "      <td>1</td>\n",
       "    </tr>\n",
       "    <tr>\n",
       "      <th>1</th>\n",
       "      <td>1</td>\n",
       "      <td>1</td>\n",
       "      <td>1.0</td>\n",
       "      <td>38.0</td>\n",
       "      <td>1</td>\n",
       "      <td>0</td>\n",
       "      <td>71.2833</td>\n",
       "      <td>2</td>\n",
       "    </tr>\n",
       "    <tr>\n",
       "      <th>2</th>\n",
       "      <td>1</td>\n",
       "      <td>3</td>\n",
       "      <td>1.0</td>\n",
       "      <td>26.0</td>\n",
       "      <td>0</td>\n",
       "      <td>0</td>\n",
       "      <td>7.9250</td>\n",
       "      <td>1</td>\n",
       "    </tr>\n",
       "    <tr>\n",
       "      <th>3</th>\n",
       "      <td>1</td>\n",
       "      <td>1</td>\n",
       "      <td>1.0</td>\n",
       "      <td>35.0</td>\n",
       "      <td>1</td>\n",
       "      <td>0</td>\n",
       "      <td>53.1000</td>\n",
       "      <td>1</td>\n",
       "    </tr>\n",
       "    <tr>\n",
       "      <th>4</th>\n",
       "      <td>0</td>\n",
       "      <td>3</td>\n",
       "      <td>0.0</td>\n",
       "      <td>35.0</td>\n",
       "      <td>0</td>\n",
       "      <td>0</td>\n",
       "      <td>8.0500</td>\n",
       "      <td>1</td>\n",
       "    </tr>\n",
       "  </tbody>\n",
       "</table>\n",
       "</div>"
      ],
      "text/plain": [
       "   Survived  Pclass  Sex   Age  SibSp  Parch     Fare  Embarked\n",
       "0         0       3  0.0  22.0      1      0   7.2500         1\n",
       "1         1       1  1.0  38.0      1      0  71.2833         2\n",
       "2         1       3  1.0  26.0      0      0   7.9250         1\n",
       "3         1       1  1.0  35.0      1      0  53.1000         1\n",
       "4         0       3  0.0  35.0      0      0   8.0500         1"
      ]
     },
     "execution_count": 35,
     "metadata": {},
     "output_type": "execute_result"
    }
   ],
   "source": [
    "train_df.head()"
   ]
  },
  {
   "cell_type": "code",
   "execution_count": 36,
   "id": "6353c59d",
   "metadata": {
    "execution": {
     "iopub.execute_input": "2021-09-27T14:01:18.909292Z",
     "iopub.status.busy": "2021-09-27T14:01:18.908601Z",
     "iopub.status.idle": "2021-09-27T14:01:18.911577Z",
     "shell.execute_reply": "2021-09-27T14:01:18.912084Z",
     "shell.execute_reply.started": "2021-09-27T13:58:04.520973Z"
    },
    "papermill": {
     "duration": 0.062783,
     "end_time": "2021-09-27T14:01:18.912251",
     "exception": false,
     "start_time": "2021-09-27T14:01:18.849468",
     "status": "completed"
    },
    "tags": []
   },
   "outputs": [
    {
     "data": {
      "text/html": [
       "<div>\n",
       "<style scoped>\n",
       "    .dataframe tbody tr th:only-of-type {\n",
       "        vertical-align: middle;\n",
       "    }\n",
       "\n",
       "    .dataframe tbody tr th {\n",
       "        vertical-align: top;\n",
       "    }\n",
       "\n",
       "    .dataframe thead th {\n",
       "        text-align: right;\n",
       "    }\n",
       "</style>\n",
       "<table border=\"1\" class=\"dataframe\">\n",
       "  <thead>\n",
       "    <tr style=\"text-align: right;\">\n",
       "      <th></th>\n",
       "      <th>Pclass</th>\n",
       "      <th>Sex</th>\n",
       "      <th>Age</th>\n",
       "      <th>SibSp</th>\n",
       "      <th>Parch</th>\n",
       "      <th>Fare</th>\n",
       "      <th>Embarked</th>\n",
       "    </tr>\n",
       "  </thead>\n",
       "  <tbody>\n",
       "    <tr>\n",
       "      <th>0</th>\n",
       "      <td>3</td>\n",
       "      <td>0.0</td>\n",
       "      <td>34.5</td>\n",
       "      <td>0</td>\n",
       "      <td>0</td>\n",
       "      <td>7.8292</td>\n",
       "      <td>3</td>\n",
       "    </tr>\n",
       "    <tr>\n",
       "      <th>1</th>\n",
       "      <td>3</td>\n",
       "      <td>1.0</td>\n",
       "      <td>47.0</td>\n",
       "      <td>1</td>\n",
       "      <td>0</td>\n",
       "      <td>7.0000</td>\n",
       "      <td>1</td>\n",
       "    </tr>\n",
       "    <tr>\n",
       "      <th>2</th>\n",
       "      <td>2</td>\n",
       "      <td>0.0</td>\n",
       "      <td>62.0</td>\n",
       "      <td>0</td>\n",
       "      <td>0</td>\n",
       "      <td>9.6875</td>\n",
       "      <td>3</td>\n",
       "    </tr>\n",
       "    <tr>\n",
       "      <th>3</th>\n",
       "      <td>3</td>\n",
       "      <td>0.0</td>\n",
       "      <td>27.0</td>\n",
       "      <td>0</td>\n",
       "      <td>0</td>\n",
       "      <td>8.6625</td>\n",
       "      <td>1</td>\n",
       "    </tr>\n",
       "    <tr>\n",
       "      <th>4</th>\n",
       "      <td>3</td>\n",
       "      <td>1.0</td>\n",
       "      <td>22.0</td>\n",
       "      <td>1</td>\n",
       "      <td>1</td>\n",
       "      <td>12.2875</td>\n",
       "      <td>1</td>\n",
       "    </tr>\n",
       "  </tbody>\n",
       "</table>\n",
       "</div>"
      ],
      "text/plain": [
       "   Pclass  Sex   Age  SibSp  Parch     Fare  Embarked\n",
       "0       3  0.0  34.5      0      0   7.8292         3\n",
       "1       3  1.0  47.0      1      0   7.0000         1\n",
       "2       2  0.0  62.0      0      0   9.6875         3\n",
       "3       3  0.0  27.0      0      0   8.6625         1\n",
       "4       3  1.0  22.0      1      1  12.2875         1"
      ]
     },
     "execution_count": 36,
     "metadata": {},
     "output_type": "execute_result"
    }
   ],
   "source": [
    "test_df.head()"
   ]
  },
  {
   "cell_type": "markdown",
   "id": "8873bc1b",
   "metadata": {
    "papermill": {
     "duration": 0.047888,
     "end_time": "2021-09-27T14:01:19.011211",
     "exception": false,
     "start_time": "2021-09-27T14:01:18.963323",
     "status": "completed"
    },
    "tags": []
   },
   "source": [
    "# Modelling\n"
   ]
  },
  {
   "cell_type": "markdown",
   "id": "e751bb82",
   "metadata": {
    "papermill": {
     "duration": 0.048713,
     "end_time": "2021-09-27T14:01:19.108031",
     "exception": false,
     "start_time": "2021-09-27T14:01:19.059318",
     "status": "completed"
    },
    "tags": []
   },
   "source": [
    "## Setting up variables to train the model"
   ]
  },
  {
   "cell_type": "code",
   "execution_count": 37,
   "id": "372263e1",
   "metadata": {
    "execution": {
     "iopub.execute_input": "2021-09-27T14:01:19.208393Z",
     "iopub.status.busy": "2021-09-27T14:01:19.207753Z",
     "iopub.status.idle": "2021-09-27T14:01:19.212616Z",
     "shell.execute_reply": "2021-09-27T14:01:19.213059Z",
     "shell.execute_reply.started": "2021-09-27T13:58:04.537571Z"
    },
    "papermill": {
     "duration": 0.056743,
     "end_time": "2021-09-27T14:01:19.213239",
     "exception": false,
     "start_time": "2021-09-27T14:01:19.156496",
     "status": "completed"
    },
    "tags": []
   },
   "outputs": [],
   "source": [
    "X = train_df.drop(['Survived'],axis='columns')\n",
    "y = train_df['Survived']"
   ]
  },
  {
   "cell_type": "markdown",
   "id": "d706c184",
   "metadata": {
    "papermill": {
     "duration": 0.048208,
     "end_time": "2021-09-27T14:01:19.310580",
     "exception": false,
     "start_time": "2021-09-27T14:01:19.262372",
     "status": "completed"
    },
    "tags": []
   },
   "source": [
    "## Splitting the dataset into the Training set and Test set"
   ]
  },
  {
   "cell_type": "code",
   "execution_count": 38,
   "id": "36f30272",
   "metadata": {
    "execution": {
     "iopub.execute_input": "2021-09-27T14:01:19.410295Z",
     "iopub.status.busy": "2021-09-27T14:01:19.409691Z",
     "iopub.status.idle": "2021-09-27T14:01:19.415001Z",
     "shell.execute_reply": "2021-09-27T14:01:19.415391Z",
     "shell.execute_reply.started": "2021-09-27T13:58:04.547185Z"
    },
    "papermill": {
     "duration": 0.056974,
     "end_time": "2021-09-27T14:01:19.415557",
     "exception": false,
     "start_time": "2021-09-27T14:01:19.358583",
     "status": "completed"
    },
    "tags": []
   },
   "outputs": [],
   "source": [
    "from sklearn.model_selection import train_test_split\n",
    "X_train,X_test,y_train,y_test=train_test_split(X,y,test_size=0.2,random_state=0)"
   ]
  },
  {
   "cell_type": "code",
   "execution_count": 39,
   "id": "b07f466a",
   "metadata": {
    "execution": {
     "iopub.execute_input": "2021-09-27T14:01:19.515950Z",
     "iopub.status.busy": "2021-09-27T14:01:19.515363Z",
     "iopub.status.idle": "2021-09-27T14:01:19.529551Z",
     "shell.execute_reply": "2021-09-27T14:01:19.530010Z",
     "shell.execute_reply.started": "2021-09-27T13:58:04.557644Z"
    },
    "papermill": {
     "duration": 0.066212,
     "end_time": "2021-09-27T14:01:19.530174",
     "exception": false,
     "start_time": "2021-09-27T14:01:19.463962",
     "status": "completed"
    },
    "tags": []
   },
   "outputs": [
    {
     "data": {
      "text/html": [
       "<div>\n",
       "<style scoped>\n",
       "    .dataframe tbody tr th:only-of-type {\n",
       "        vertical-align: middle;\n",
       "    }\n",
       "\n",
       "    .dataframe tbody tr th {\n",
       "        vertical-align: top;\n",
       "    }\n",
       "\n",
       "    .dataframe thead th {\n",
       "        text-align: right;\n",
       "    }\n",
       "</style>\n",
       "<table border=\"1\" class=\"dataframe\">\n",
       "  <thead>\n",
       "    <tr style=\"text-align: right;\">\n",
       "      <th></th>\n",
       "      <th>Pclass</th>\n",
       "      <th>Sex</th>\n",
       "      <th>Age</th>\n",
       "      <th>SibSp</th>\n",
       "      <th>Parch</th>\n",
       "      <th>Fare</th>\n",
       "      <th>Embarked</th>\n",
       "    </tr>\n",
       "  </thead>\n",
       "  <tbody>\n",
       "    <tr>\n",
       "      <th>364</th>\n",
       "      <td>3</td>\n",
       "      <td>0.0</td>\n",
       "      <td>29.699118</td>\n",
       "      <td>1</td>\n",
       "      <td>0</td>\n",
       "      <td>15.5000</td>\n",
       "      <td>3</td>\n",
       "    </tr>\n",
       "    <tr>\n",
       "      <th>256</th>\n",
       "      <td>1</td>\n",
       "      <td>1.0</td>\n",
       "      <td>29.699118</td>\n",
       "      <td>0</td>\n",
       "      <td>0</td>\n",
       "      <td>79.2000</td>\n",
       "      <td>2</td>\n",
       "    </tr>\n",
       "    <tr>\n",
       "      <th>477</th>\n",
       "      <td>3</td>\n",
       "      <td>0.0</td>\n",
       "      <td>29.000000</td>\n",
       "      <td>1</td>\n",
       "      <td>0</td>\n",
       "      <td>7.0458</td>\n",
       "      <td>1</td>\n",
       "    </tr>\n",
       "    <tr>\n",
       "      <th>272</th>\n",
       "      <td>2</td>\n",
       "      <td>1.0</td>\n",
       "      <td>41.000000</td>\n",
       "      <td>0</td>\n",
       "      <td>1</td>\n",
       "      <td>19.5000</td>\n",
       "      <td>1</td>\n",
       "    </tr>\n",
       "    <tr>\n",
       "      <th>554</th>\n",
       "      <td>3</td>\n",
       "      <td>1.0</td>\n",
       "      <td>22.000000</td>\n",
       "      <td>0</td>\n",
       "      <td>0</td>\n",
       "      <td>7.7750</td>\n",
       "      <td>1</td>\n",
       "    </tr>\n",
       "    <tr>\n",
       "      <th>...</th>\n",
       "      <td>...</td>\n",
       "      <td>...</td>\n",
       "      <td>...</td>\n",
       "      <td>...</td>\n",
       "      <td>...</td>\n",
       "      <td>...</td>\n",
       "      <td>...</td>\n",
       "    </tr>\n",
       "    <tr>\n",
       "      <th>837</th>\n",
       "      <td>3</td>\n",
       "      <td>0.0</td>\n",
       "      <td>29.699118</td>\n",
       "      <td>0</td>\n",
       "      <td>0</td>\n",
       "      <td>8.0500</td>\n",
       "      <td>1</td>\n",
       "    </tr>\n",
       "    <tr>\n",
       "      <th>193</th>\n",
       "      <td>2</td>\n",
       "      <td>0.0</td>\n",
       "      <td>3.000000</td>\n",
       "      <td>1</td>\n",
       "      <td>1</td>\n",
       "      <td>26.0000</td>\n",
       "      <td>1</td>\n",
       "    </tr>\n",
       "    <tr>\n",
       "      <th>630</th>\n",
       "      <td>1</td>\n",
       "      <td>0.0</td>\n",
       "      <td>80.000000</td>\n",
       "      <td>0</td>\n",
       "      <td>0</td>\n",
       "      <td>30.0000</td>\n",
       "      <td>1</td>\n",
       "    </tr>\n",
       "    <tr>\n",
       "      <th>560</th>\n",
       "      <td>3</td>\n",
       "      <td>0.0</td>\n",
       "      <td>29.699118</td>\n",
       "      <td>0</td>\n",
       "      <td>0</td>\n",
       "      <td>7.7500</td>\n",
       "      <td>3</td>\n",
       "    </tr>\n",
       "    <tr>\n",
       "      <th>685</th>\n",
       "      <td>2</td>\n",
       "      <td>0.0</td>\n",
       "      <td>25.000000</td>\n",
       "      <td>1</td>\n",
       "      <td>2</td>\n",
       "      <td>41.5792</td>\n",
       "      <td>2</td>\n",
       "    </tr>\n",
       "  </tbody>\n",
       "</table>\n",
       "<p>711 rows × 7 columns</p>\n",
       "</div>"
      ],
      "text/plain": [
       "     Pclass  Sex        Age  SibSp  Parch     Fare  Embarked\n",
       "364       3  0.0  29.699118      1      0  15.5000         3\n",
       "256       1  1.0  29.699118      0      0  79.2000         2\n",
       "477       3  0.0  29.000000      1      0   7.0458         1\n",
       "272       2  1.0  41.000000      0      1  19.5000         1\n",
       "554       3  1.0  22.000000      0      0   7.7750         1\n",
       "..      ...  ...        ...    ...    ...      ...       ...\n",
       "837       3  0.0  29.699118      0      0   8.0500         1\n",
       "193       2  0.0   3.000000      1      1  26.0000         1\n",
       "630       1  0.0  80.000000      0      0  30.0000         1\n",
       "560       3  0.0  29.699118      0      0   7.7500         3\n",
       "685       2  0.0  25.000000      1      2  41.5792         2\n",
       "\n",
       "[711 rows x 7 columns]"
      ]
     },
     "execution_count": 39,
     "metadata": {},
     "output_type": "execute_result"
    }
   ],
   "source": [
    "X_train"
   ]
  },
  {
   "cell_type": "markdown",
   "id": "1a36767a",
   "metadata": {
    "papermill": {
     "duration": 0.049416,
     "end_time": "2021-09-27T14:01:19.628793",
     "exception": false,
     "start_time": "2021-09-27T14:01:19.579377",
     "status": "completed"
    },
    "tags": []
   },
   "source": [
    "# Training several models on training set"
   ]
  },
  {
   "cell_type": "markdown",
   "id": "f9cb1fd1",
   "metadata": {
    "papermill": {
     "duration": 0.048687,
     "end_time": "2021-09-27T14:01:19.726274",
     "exception": false,
     "start_time": "2021-09-27T14:01:19.677587",
     "status": "completed"
    },
    "tags": []
   },
   "source": [
    "## Logistic Regression"
   ]
  },
  {
   "cell_type": "code",
   "execution_count": 40,
   "id": "96d5b762",
   "metadata": {
    "execution": {
     "iopub.execute_input": "2021-09-27T14:01:19.832411Z",
     "iopub.status.busy": "2021-09-27T14:01:19.831692Z",
     "iopub.status.idle": "2021-09-27T14:01:19.876600Z",
     "shell.execute_reply": "2021-09-27T14:01:19.876047Z",
     "shell.execute_reply.started": "2021-09-27T13:58:04.578757Z"
    },
    "papermill": {
     "duration": 0.101712,
     "end_time": "2021-09-27T14:01:19.876755",
     "exception": false,
     "start_time": "2021-09-27T14:01:19.775043",
     "status": "completed"
    },
    "tags": []
   },
   "outputs": [
    {
     "name": "stdout",
     "output_type": "stream",
     "text": [
      "[[84 21]\n",
      " [29 44]]\n",
      "0.7191011235955056\n"
     ]
    }
   ],
   "source": [
    "model1 = LogisticRegression(random_state=0)\n",
    "model1.fit(X_train,y_train)\n",
    "pred = model1.predict(X_test)\n",
    "log_cm = confusion_matrix(y_test, pred)\n",
    "log_acc = accuracy_score(pred,y_test)\n",
    "print(log_cm)\n",
    "print(log_acc)"
   ]
  },
  {
   "cell_type": "markdown",
   "id": "f8d58e40",
   "metadata": {
    "papermill": {
     "duration": 0.04981,
     "end_time": "2021-09-27T14:01:19.976197",
     "exception": false,
     "start_time": "2021-09-27T14:01:19.926387",
     "status": "completed"
    },
    "tags": []
   },
   "source": [
    "## K-NN"
   ]
  },
  {
   "cell_type": "code",
   "execution_count": 41,
   "id": "a970070d",
   "metadata": {
    "execution": {
     "iopub.execute_input": "2021-09-27T14:01:20.088340Z",
     "iopub.status.busy": "2021-09-27T14:01:20.083707Z",
     "iopub.status.idle": "2021-09-27T14:01:20.098536Z",
     "shell.execute_reply": "2021-09-27T14:01:20.098998Z",
     "shell.execute_reply.started": "2021-09-27T13:58:04.626381Z"
    },
    "papermill": {
     "duration": 0.073222,
     "end_time": "2021-09-27T14:01:20.099168",
     "exception": false,
     "start_time": "2021-09-27T14:01:20.025946",
     "status": "completed"
    },
    "tags": []
   },
   "outputs": [
    {
     "name": "stdout",
     "output_type": "stream",
     "text": [
      "[[77 28]\n",
      " [31 42]]\n",
      "0.6685393258426966\n"
     ]
    }
   ],
   "source": [
    "model2 = KNeighborsClassifier(n_neighbors = 5, metric = 'minkowski', p = 2)\n",
    "model2.fit(X_train, y_train)\n",
    "pred_2 = model2.predict(X_test)\n",
    "knn_cm = confusion_matrix(y_test, pred_2)\n",
    "knn_acc = accuracy_score(pred_2,y_test)\n",
    "print(knn_cm)\n",
    "print(knn_acc)"
   ]
  },
  {
   "cell_type": "markdown",
   "id": "e720ab6e",
   "metadata": {
    "papermill": {
     "duration": 0.04953,
     "end_time": "2021-09-27T14:01:20.198214",
     "exception": false,
     "start_time": "2021-09-27T14:01:20.148684",
     "status": "completed"
    },
    "tags": []
   },
   "source": [
    "## Support Vector Machine (SVM)"
   ]
  },
  {
   "cell_type": "code",
   "execution_count": 42,
   "id": "0f1ef588",
   "metadata": {
    "execution": {
     "iopub.execute_input": "2021-09-27T14:01:20.305892Z",
     "iopub.status.busy": "2021-09-27T14:01:20.305068Z",
     "iopub.status.idle": "2021-09-27T14:01:22.755804Z",
     "shell.execute_reply": "2021-09-27T14:01:22.755334Z",
     "shell.execute_reply.started": "2021-09-27T13:58:04.651741Z"
    },
    "papermill": {
     "duration": 2.508428,
     "end_time": "2021-09-27T14:01:22.755972",
     "exception": false,
     "start_time": "2021-09-27T14:01:20.247544",
     "status": "completed"
    },
    "tags": []
   },
   "outputs": [
    {
     "name": "stdout",
     "output_type": "stream",
     "text": [
      "[[85 20]\n",
      " [30 43]]\n",
      "0.7191011235955056\n"
     ]
    }
   ],
   "source": [
    "model3 = SVC(kernel = 'linear', random_state = 0)\n",
    "model3.fit(X_train, y_train)\n",
    "pred_3 = model3.predict(X_test)\n",
    "svm_cm = confusion_matrix(y_test, pred_3)\n",
    "svm_acc = accuracy_score(pred_3,y_test)\n",
    "print(svm_cm)\n",
    "print(svm_acc)"
   ]
  },
  {
   "cell_type": "markdown",
   "id": "d4066f7e",
   "metadata": {
    "papermill": {
     "duration": 0.052038,
     "end_time": "2021-09-27T14:01:22.858601",
     "exception": false,
     "start_time": "2021-09-27T14:01:22.806563",
     "status": "completed"
    },
    "tags": []
   },
   "source": [
    "## Decision Tree Classifier"
   ]
  },
  {
   "cell_type": "code",
   "execution_count": 43,
   "id": "826e58d6",
   "metadata": {
    "execution": {
     "iopub.execute_input": "2021-09-27T14:01:22.966733Z",
     "iopub.status.busy": "2021-09-27T14:01:22.964118Z",
     "iopub.status.idle": "2021-09-27T14:01:22.976749Z",
     "shell.execute_reply": "2021-09-27T14:01:22.977259Z",
     "shell.execute_reply.started": "2021-09-27T13:58:07.100193Z"
    },
    "papermill": {
     "duration": 0.068698,
     "end_time": "2021-09-27T14:01:22.977424",
     "exception": false,
     "start_time": "2021-09-27T14:01:22.908726",
     "status": "completed"
    },
    "tags": []
   },
   "outputs": [
    {
     "name": "stdout",
     "output_type": "stream",
     "text": [
      "[[87 18]\n",
      " [25 48]]\n",
      "0.7584269662921348\n"
     ]
    }
   ],
   "source": [
    "model4 = DecisionTreeClassifier(criterion = 'entropy', random_state = 0)\n",
    "model4.fit(X_train, y_train)\n",
    "pred_4 = model4.predict(X_test)\n",
    "dt_cm = confusion_matrix(y_test, pred_4)\n",
    "dt_acc = accuracy_score(pred_4,y_test)\n",
    "print(dt_cm)\n",
    "print(dt_acc)"
   ]
  },
  {
   "cell_type": "markdown",
   "id": "2b313884",
   "metadata": {
    "papermill": {
     "duration": 0.049868,
     "end_time": "2021-09-27T14:01:23.077051",
     "exception": false,
     "start_time": "2021-09-27T14:01:23.027183",
     "status": "completed"
    },
    "tags": []
   },
   "source": [
    "## Random Forrest Classifier"
   ]
  },
  {
   "cell_type": "code",
   "execution_count": 44,
   "id": "7f0e652d",
   "metadata": {
    "execution": {
     "iopub.execute_input": "2021-09-27T14:01:23.182471Z",
     "iopub.status.busy": "2021-09-27T14:01:23.180576Z",
     "iopub.status.idle": "2021-09-27T14:01:23.302072Z",
     "shell.execute_reply": "2021-09-27T14:01:23.302708Z",
     "shell.execute_reply.started": "2021-09-27T13:58:07.118196Z"
    },
    "papermill": {
     "duration": 0.176441,
     "end_time": "2021-09-27T14:01:23.302961",
     "exception": false,
     "start_time": "2021-09-27T14:01:23.126520",
     "status": "completed"
    },
    "tags": []
   },
   "outputs": [
    {
     "name": "stdout",
     "output_type": "stream",
     "text": [
      "[[90 15]\n",
      " [25 48]]\n",
      "0.7752808988764045\n"
     ]
    }
   ],
   "source": [
    "model5 = RandomForestClassifier(n_estimators = 50)\n",
    "model5.fit(X_train,y_train)\n",
    "pred_5 = model5.predict(X_test)\n",
    "rf_cm = confusion_matrix(y_test, pred_5)\n",
    "rf_acc = accuracy_score(pred_5,y_test)\n",
    "print(rf_cm)\n",
    "print(rf_acc)"
   ]
  },
  {
   "cell_type": "markdown",
   "id": "bf92f2db",
   "metadata": {
    "papermill": {
     "duration": 0.050973,
     "end_time": "2021-09-27T14:01:23.421025",
     "exception": false,
     "start_time": "2021-09-27T14:01:23.370052",
     "status": "completed"
    },
    "tags": []
   },
   "source": [
    "## XGBoost Classifier"
   ]
  },
  {
   "cell_type": "code",
   "execution_count": 45,
   "id": "fdb6d55f",
   "metadata": {
    "execution": {
     "iopub.execute_input": "2021-09-27T14:01:23.550110Z",
     "iopub.status.busy": "2021-09-27T14:01:23.549107Z",
     "iopub.status.idle": "2021-09-27T14:01:24.103534Z",
     "shell.execute_reply": "2021-09-27T14:01:24.104111Z",
     "shell.execute_reply.started": "2021-09-27T13:58:07.223470Z"
    },
    "papermill": {
     "duration": 0.626747,
     "end_time": "2021-09-27T14:01:24.104303",
     "exception": false,
     "start_time": "2021-09-27T14:01:23.477556",
     "status": "completed"
    },
    "tags": []
   },
   "outputs": [
    {
     "name": "stderr",
     "output_type": "stream",
     "text": [
      "/opt/conda/lib/python3.7/site-packages/xgboost/sklearn.py:1146: UserWarning: The use of label encoder in XGBClassifier is deprecated and will be removed in a future release. To remove this warning, do the following: 1) Pass option use_label_encoder=False when constructing XGBClassifier object; and 2) Encode your labels (y) as integers starting with 0, i.e. 0, 1, 2, ..., [num_class - 1].\n",
      "  warnings.warn(label_encoder_deprecation_msg, UserWarning)\n"
     ]
    },
    {
     "name": "stdout",
     "output_type": "stream",
     "text": [
      "[14:01:24] WARNING: ../src/learner.cc:1095: Starting in XGBoost 1.3.0, the default evaluation metric used with the objective 'binary:logistic' was changed from 'error' to 'logloss'. Explicitly set eval_metric if you'd like to restore the old behavior.\n",
      "[[86 19]\n",
      " [25 48]]\n",
      "0.7528089887640449\n"
     ]
    }
   ],
   "source": [
    "model6 = XGBClassifier()\n",
    "model6.fit(X_train, y_train)\n",
    "pred_6 = model6.predict(X_test)\n",
    "xg_cm = confusion_matrix(y_test, pred_6)\n",
    "xg_acc = accuracy_score(pred_6,y_test);\n",
    "print(xg_cm)\n",
    "print(xg_acc)"
   ]
  },
  {
   "cell_type": "code",
   "execution_count": 46,
   "id": "bb2e5e6d",
   "metadata": {
    "execution": {
     "iopub.execute_input": "2021-09-27T14:01:24.210631Z",
     "iopub.status.busy": "2021-09-27T14:01:24.209642Z",
     "iopub.status.idle": "2021-09-27T14:01:24.443715Z",
     "shell.execute_reply": "2021-09-27T14:01:24.443134Z",
     "shell.execute_reply.started": "2021-09-27T13:58:07.337387Z"
    },
    "papermill": {
     "duration": 0.288112,
     "end_time": "2021-09-27T14:01:24.443847",
     "exception": false,
     "start_time": "2021-09-27T14:01:24.155735",
     "status": "completed"
    },
    "tags": []
   },
   "outputs": [
    {
     "name": "stdout",
     "output_type": "stream",
     "text": [
      "Accuracy of Logistic Regression :  0.7191011235955056\n",
      "Accuracy of KNN Classifier :  0.6685393258426966\n",
      "Accuracy of SVM Classifier :  0.7191011235955056\n",
      "Accuracy of Decision Tree Classifier :  0.7584269662921348\n",
      "Accuracy of Random Forest Classifier :  0.7752808988764045\n",
      "Accuracy of XGBoost Classifier :  0.7528089887640449\n"
     ]
    },
    {
     "data": {
      "text/plain": [
       "(0.6, 1.0)"
      ]
     },
     "execution_count": 46,
     "metadata": {},
     "output_type": "execute_result"
    },
    {
     "data": {
      "image/png": "[encoded data removed]",
      "text/plain": [
       "<Figure size 576x288 with 1 Axes>"
      ]
     },
     "metadata": {
      "needs_background": "light"
     },
     "output_type": "display_data"
    }
   ],
   "source": [
    "print(\"Accuracy of Logistic Regression : \",log_acc)\n",
    "print(\"Accuracy of KNN Classifier : \",knn_acc)\n",
    "print(\"Accuracy of SVM Classifier : \",svm_acc)\n",
    "print(\"Accuracy of Decision Tree Classifier : \",dt_acc)\n",
    "print(\"Accuracy of Random Forest Classifier : \",rf_acc)\n",
    "print(\"Accuracy of XGBoost Classifier : \",xg_acc)\n",
    "models_acc=[log_acc,knn_acc,svm_acc,dt_acc,rf_acc,xg_acc]\n",
    "names_of_models=['LogisticRegression','KNN','SVM','Decision Tree', 'Random Forest', 'XGBoost']\n",
    "sns.barplot(y=names_of_models,x=models_acc)\n",
    "plt.gcf().set_size_inches(8,4)\n",
    "plt.xlim([0.6,1.0])"
   ]
  },
  {
   "cell_type": "markdown",
   "id": "b55edd31",
   "metadata": {
    "papermill": {
     "duration": 0.052081,
     "end_time": "2021-09-27T14:01:24.548410",
     "exception": false,
     "start_time": "2021-09-27T14:01:24.496329",
     "status": "completed"
    },
    "tags": []
   },
   "source": [
    "# Selecting the best model for predicting"
   ]
  },
  {
   "cell_type": "code",
   "execution_count": 47,
   "id": "6de1770a",
   "metadata": {
    "execution": {
     "iopub.execute_input": "2021-09-27T14:01:24.663176Z",
     "iopub.status.busy": "2021-09-27T14:01:24.662217Z",
     "iopub.status.idle": "2021-09-27T14:01:24.761831Z",
     "shell.execute_reply": "2021-09-27T14:01:24.761275Z",
     "shell.execute_reply.started": "2021-09-27T13:58:07.521398Z"
    },
    "papermill": {
     "duration": 0.158388,
     "end_time": "2021-09-27T14:01:24.761997",
     "exception": false,
     "start_time": "2021-09-27T14:01:24.603609",
     "status": "completed"
    },
    "tags": []
   },
   "outputs": [
    {
     "data": {
      "text/plain": [
       "RandomForestClassifier(n_estimators=50)"
      ]
     },
     "execution_count": 47,
     "metadata": {},
     "output_type": "execute_result"
    }
   ],
   "source": [
    "model5.fit(X,y)"
   ]
  },
  {
   "cell_type": "code",
   "execution_count": 48,
   "id": "9d48999c",
   "metadata": {
    "execution": {
     "iopub.execute_input": "2021-09-27T14:01:24.871500Z",
     "iopub.status.busy": "2021-09-27T14:01:24.870579Z",
     "iopub.status.idle": "2021-09-27T14:01:24.884608Z",
     "shell.execute_reply": "2021-09-27T14:01:24.885111Z",
     "shell.execute_reply.started": "2021-09-27T13:58:07.622253Z"
    },
    "papermill": {
     "duration": 0.070502,
     "end_time": "2021-09-27T14:01:24.885287",
     "exception": false,
     "start_time": "2021-09-27T14:01:24.814785",
     "status": "completed"
    },
    "tags": []
   },
   "outputs": [],
   "source": [
    "pred = model5.predict(test_df)"
   ]
  },
  {
   "cell_type": "code",
   "execution_count": 49,
   "id": "e0e97ce6",
   "metadata": {
    "execution": {
     "iopub.execute_input": "2021-09-27T14:01:24.996270Z",
     "iopub.status.busy": "2021-09-27T14:01:24.993362Z",
     "iopub.status.idle": "2021-09-27T14:01:24.999125Z",
     "shell.execute_reply": "2021-09-27T14:01:24.998522Z",
     "shell.execute_reply.started": "2021-09-27T13:58:07.641876Z"
    },
    "papermill": {
     "duration": 0.061635,
     "end_time": "2021-09-27T14:01:24.999259",
     "exception": false,
     "start_time": "2021-09-27T14:01:24.937624",
     "status": "completed"
    },
    "tags": []
   },
   "outputs": [],
   "source": [
    "submission = pd.DataFrame({\"PassengerId\": submit[\"PassengerId\"],\"Survived\":pred})"
   ]
  },
  {
   "cell_type": "code",
   "execution_count": 50,
   "id": "00089e44",
   "metadata": {
    "execution": {
     "iopub.execute_input": "2021-09-27T14:01:25.116389Z",
     "iopub.status.busy": "2021-09-27T14:01:25.115545Z",
     "iopub.status.idle": "2021-09-27T14:01:25.118625Z",
     "shell.execute_reply": "2021-09-27T14:01:25.119118Z",
     "shell.execute_reply.started": "2021-09-27T13:58:07.648257Z"
    },
    "papermill": {
     "duration": 0.065816,
     "end_time": "2021-09-27T14:01:25.119282",
     "exception": false,
     "start_time": "2021-09-27T14:01:25.053466",
     "status": "completed"
    },
    "tags": []
   },
   "outputs": [
    {
     "data": {
      "text/html": [
       "<div>\n",
       "<style scoped>\n",
       "    .dataframe tbody tr th:only-of-type {\n",
       "        vertical-align: middle;\n",
       "    }\n",
       "\n",
       "    .dataframe tbody tr th {\n",
       "        vertical-align: top;\n",
       "    }\n",
       "\n",
       "    .dataframe thead th {\n",
       "        text-align: right;\n",
       "    }\n",
       "</style>\n",
       "<table border=\"1\" class=\"dataframe\">\n",
       "  <thead>\n",
       "    <tr style=\"text-align: right;\">\n",
       "      <th></th>\n",
       "      <th>PassengerId</th>\n",
       "      <th>Survived</th>\n",
       "    </tr>\n",
       "  </thead>\n",
       "  <tbody>\n",
       "    <tr>\n",
       "      <th>0</th>\n",
       "      <td>892</td>\n",
       "      <td>0</td>\n",
       "    </tr>\n",
       "    <tr>\n",
       "      <th>1</th>\n",
       "      <td>893</td>\n",
       "      <td>0</td>\n",
       "    </tr>\n",
       "    <tr>\n",
       "      <th>2</th>\n",
       "      <td>894</td>\n",
       "      <td>0</td>\n",
       "    </tr>\n",
       "    <tr>\n",
       "      <th>3</th>\n",
       "      <td>895</td>\n",
       "      <td>1</td>\n",
       "    </tr>\n",
       "    <tr>\n",
       "      <th>4</th>\n",
       "      <td>896</td>\n",
       "      <td>0</td>\n",
       "    </tr>\n",
       "    <tr>\n",
       "      <th>...</th>\n",
       "      <td>...</td>\n",
       "      <td>...</td>\n",
       "    </tr>\n",
       "    <tr>\n",
       "      <th>413</th>\n",
       "      <td>1305</td>\n",
       "      <td>0</td>\n",
       "    </tr>\n",
       "    <tr>\n",
       "      <th>414</th>\n",
       "      <td>1306</td>\n",
       "      <td>1</td>\n",
       "    </tr>\n",
       "    <tr>\n",
       "      <th>415</th>\n",
       "      <td>1307</td>\n",
       "      <td>0</td>\n",
       "    </tr>\n",
       "    <tr>\n",
       "      <th>416</th>\n",
       "      <td>1308</td>\n",
       "      <td>0</td>\n",
       "    </tr>\n",
       "    <tr>\n",
       "      <th>417</th>\n",
       "      <td>1309</td>\n",
       "      <td>0</td>\n",
       "    </tr>\n",
       "  </tbody>\n",
       "</table>\n",
       "<p>418 rows × 2 columns</p>\n",
       "</div>"
      ],
      "text/plain": [
       "     PassengerId  Survived\n",
       "0            892         0\n",
       "1            893         0\n",
       "2            894         0\n",
       "3            895         1\n",
       "4            896         0\n",
       "..           ...       ...\n",
       "413         1305         0\n",
       "414         1306         1\n",
       "415         1307         0\n",
       "416         1308         0\n",
       "417         1309         0\n",
       "\n",
       "[418 rows x 2 columns]"
      ]
     },
     "execution_count": 50,
     "metadata": {},
     "output_type": "execute_result"
    }
   ],
   "source": [
    "submission"
   ]
  },
  {
   "cell_type": "code",
   "execution_count": 51,
   "id": "582562ec",
   "metadata": {
    "execution": {
     "iopub.execute_input": "2021-09-27T14:01:25.228715Z",
     "iopub.status.busy": "2021-09-27T14:01:25.227807Z",
     "iopub.status.idle": "2021-09-27T14:01:25.235986Z",
     "shell.execute_reply": "2021-09-27T14:01:25.235453Z",
     "shell.execute_reply.started": "2021-09-27T13:58:07.670473Z"
    },
    "papermill": {
     "duration": 0.064545,
     "end_time": "2021-09-27T14:01:25.236129",
     "exception": false,
     "start_time": "2021-09-27T14:01:25.171584",
     "status": "completed"
    },
    "tags": []
   },
   "outputs": [],
   "source": [
    "submission.to_csv('submission.csv',index=False)"
   ]
  },
  {
   "cell_type": "code",
   "execution_count": 52,
   "id": "1b5bdebe",
   "metadata": {
    "execution": {
     "iopub.execute_input": "2021-09-27T14:01:25.345502Z",
     "iopub.status.busy": "2021-09-27T14:01:25.344861Z",
     "iopub.status.idle": "2021-09-27T14:01:25.358767Z",
     "shell.execute_reply": "2021-09-27T14:01:25.358237Z",
     "shell.execute_reply.started": "2021-09-27T14:00:08.943155Z"
    },
    "papermill": {
     "duration": 0.069647,
     "end_time": "2021-09-27T14:01:25.358905",
     "exception": false,
     "start_time": "2021-09-27T14:01:25.289258",
     "status": "completed"
    },
    "tags": []
   },
   "outputs": [],
   "source": [
    "from sklearn.preprocessing import StandardScaler\n",
    "from sklearn.neural_network import MLPClassifier\n",
    "from sklearn import metrics"
   ]
  },
  {
   "cell_type": "code",
   "execution_count": null,
   "id": "2ae964b3",
   "metadata": {
    "papermill": {
     "duration": 0.052152,
     "end_time": "2021-09-27T14:01:25.463545",
     "exception": false,
     "start_time": "2021-09-27T14:01:25.411393",
     "status": "completed"
    },
    "tags": []
   },
   "outputs": [],
   "source": []
  },
  {
   "cell_type": "code",
   "execution_count": 53,
   "id": "2f7840be",
   "metadata": {
    "execution": {
     "iopub.execute_input": "2021-09-27T14:01:25.577458Z",
     "iopub.status.busy": "2021-09-27T14:01:25.576617Z",
     "iopub.status.idle": "2021-09-27T14:01:28.477638Z",
     "shell.execute_reply": "2021-09-27T14:01:28.479162Z",
     "shell.execute_reply.started": "2021-09-27T14:00:12.255563Z"
    },
    "papermill": {
     "duration": 2.963303,
     "end_time": "2021-09-27T14:01:28.479447",
     "exception": false,
     "start_time": "2021-09-27T14:01:25.516144",
     "status": "completed"
    },
    "tags": []
   },
   "outputs": [
    {
     "name": "stdout",
     "output_type": "stream",
     "text": [
      "Accuracy: 0.7303370786516854\n"
     ]
    }
   ],
   "source": [
    "#Using MLPClassifier\n",
    "sc = StandardScaler()\n",
    "scaler = sc.fit(X_train)\n",
    "X_train = scaler.transform(X_train)\n",
    "X_test = scaler.transform(X_test)\n",
    "mlp = MLPClassifier()\n",
    "mlp = MLPClassifier(max_iter=1000, hidden_layer_sizes=(100,50,30)).fit(X_train, y_train)\n",
    "y_pred=mlp.predict(X_test)\n",
    "print(\"Accuracy:\",metrics.accuracy_score(y_test, y_pred))"
   ]
  },
  {
   "cell_type": "code",
   "execution_count": null,
   "id": "3a005f3d",
   "metadata": {
    "papermill": {
     "duration": 0.104891,
     "end_time": "2021-09-27T14:01:28.691063",
     "exception": false,
     "start_time": "2021-09-27T14:01:28.586172",
     "status": "completed"
    },
    "tags": []
   },
   "outputs": [],
   "source": []
  }
 ],
 "metadata": {
  "kernelspec": {
   "display_name": "Python 3",
   "language": "python",
   "name": "python3"
  },
  "language_info": {
   "codemirror_mode": {
    "name": "ipython",
    "version": 3
   },
   "file_extension": ".py",
   "mimetype": "text/x-python",
   "name": "python",
   "nbconvert_exporter": "python",
   "pygments_lexer": "ipython3",
   "version": "3.7.10"
  },
  "papermill": {
   "default_parameters": {},
   "duration": 24.666485,
   "end_time": "2021-09-27T14:01:29.453698",
   "environment_variables": {},
   "exception": null,
   "input_path": "__notebook__.ipynb",
   "output_path": "__notebook__.ipynb",
   "parameters": {},
   "start_time": "2021-09-27T14:01:04.787213",
   "version": "2.3.3"
  }
 },
 "nbformat": 4,
 "nbformat_minor": 5
}
